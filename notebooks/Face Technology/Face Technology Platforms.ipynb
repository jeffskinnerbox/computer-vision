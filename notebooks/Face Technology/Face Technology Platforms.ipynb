{
 "cells": [
  {
   "cell_type": "markdown",
   "metadata": {},
   "source": [
    "# Face Technology Platforms"
   ]
  },
  {
   "cell_type": "markdown",
   "metadata": {},
   "source": [
    "# Sources\n",
    "* [How Facial Recognition Systems Work](https://electronics.howstuffworks.com/gadgets/high-tech-gadgets/facial-recognition2.htm)\n",
    "* [Facial recognition freak out: what the technology can and can't do](http://fortune.com/2015/06/23/facial-recognition-freak-out/)\n",
    "* [A Practical Guide To Using Face Technology (Part I)](https://www.iotforall.com/practical-guide-face-technology-part-1/)\n",
    "* [Face Technology in Business: A Practical Guide to Using Face Technology (Part II)](https://medium.com/iotforall/face-technology-in-business-1d322bedfb09)\n",
    "* [Machine Learning is Fun! Part 4: Modern Face Recognition with Deep Learning](https://medium.com/@ageitgey/machine-learning-is-fun-part-4-modern-face-recognition-with-deep-learning-c3cffc121d78)\n",
    "* [Raspberry Pi Face Recognition](https://www.pyimagesearch.com/2018/06/25/raspberry-pi-face-recognition/)"
   ]
  }
 ],
 "metadata": {
  "kernelspec": {
   "display_name": "Python 3",
   "language": "python",
   "name": "python3"
  },
  "language_info": {
   "codemirror_mode": {
    "name": "ipython",
    "version": 3
   },
   "file_extension": ".py",
   "mimetype": "text/x-python",
   "name": "python",
   "nbconvert_exporter": "python",
   "pygments_lexer": "ipython3",
   "version": "3.6.3"
  }
 },
 "nbformat": 4,
 "nbformat_minor": 2
}
