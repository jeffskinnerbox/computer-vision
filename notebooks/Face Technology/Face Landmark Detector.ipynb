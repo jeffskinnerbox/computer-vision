{
 "cells": [
  {
   "cell_type": "markdown",
   "metadata": {},
   "source": [
    "# Face Landmark Detector"
   ]
  },
  {
   "cell_type": "markdown",
   "metadata": {},
   "source": [
    "You can download a trained facial shape predictor from dlib's site.\n",
    "Do the following:\n",
    "\n",
    "```\n",
    "cd ~/Downloads\n",
    "wget http://dlib.net/files/shape_predictor_68_face_landmarks.dat.bz2\n",
    "bzip2 -dk shape_predictor_68_face_landmarks.dat.bz2\n",
    "\n",
    "```"
   ]
  },
  {
   "cell_type": "code",
   "execution_count": 3,
   "metadata": {},
   "outputs": [],
   "source": [
    "# import the necessary packages\n",
    "from imutils import face_utils\n",
    "import cv2\n",
    "import dlib\n",
    "\n",
    "\n",
    "ROOT = \"/home/jeff/Jupyter-Notebooks/DataSets/\"\n",
    "MODEL = \"Models/shape_predictor_68_face_landmarks.dat\"\n",
    "IMAGE = \"Images/Lenna.png\"\n",
    " \n",
    "# initialize dlib's face detector (HOG-based) and then create the facial landmark predictor\n",
    "detector = dlib.get_frontal_face_detector()\n",
    "predictor = dlib.shape_predictor(ROOT + MODEL)\n",
    " \n",
    "# load the input image and convert it to grayscale\n",
    "image = cv2.imread(ROOT + IMAGE)\n",
    "gray = cv2.cvtColor(image, cv2.COLOR_BGR2GRAY)\n",
    " \n",
    "# detect faces in the grayscale image\n",
    "rects = detector(gray, 0)\n",
    " \n",
    "# loop over the face detections\n",
    "for (i, rect) in enumerate(rects):\n",
    "    # determine the facial landmarks for the face region, then\n",
    "    # convert the facial landmark (x, y)-coordinates to a NumPy array\n",
    "    shape = predictor(gray, rect)\n",
    "    shape = face_utils.shape_to_np(shape)\n",
    " \n",
    "    # loop over the (x, y)-coordinates for the facial landmarks and draw them on the image\n",
    "    for (x, y) in shape:\n",
    "        cv2.circle(image, (x, y), 2, (0, 255, 0), -1)\n",
    " \n",
    "# show the output image with the face detections + facial landmarks\n",
    "cv2.imshow(\"Face Landmarks\", image)\n",
    "\n",
    "# pre-set ESC or 'q' to exit\n",
    "while (1):\n",
    "    k = cv2.waitKey(20) & 0xFF\n",
    "    if k == 27 or k == ord('q'):\n",
    "        break  \n",
    "\n",
    "# clean up\n",
    "cv2.destroyAllWindows()"
   ]
  },
  {
   "cell_type": "markdown",
   "metadata": {},
   "source": [
    "# Sources\n",
    "* [Facial Landmark Detection](https://www.learnopencv.com/facial-landmark-detection/)\n",
    "* [Install dlib on the Raspberry Pi](https://www.pyimagesearch.com/2017/05/01/install-dlib-raspberry-pi/)\n",
    "* [Real-time facial landmark detection with OpenCV, Python, and dlib](https://www.pyimagesearch.com/2017/04/17/real-time-facial-landmark-detection-opencv-python-dlib/)"
   ]
  }
 ],
 "metadata": {
  "kernelspec": {
   "display_name": "Python 3",
   "language": "python",
   "name": "python3"
  },
  "language_info": {
   "codemirror_mode": {
    "name": "ipython",
    "version": 3
   },
   "file_extension": ".py",
   "mimetype": "text/x-python",
   "name": "python",
   "nbconvert_exporter": "python",
   "pygments_lexer": "ipython3",
   "version": "3.6.3"
  }
 },
 "nbformat": 4,
 "nbformat_minor": 2
}
