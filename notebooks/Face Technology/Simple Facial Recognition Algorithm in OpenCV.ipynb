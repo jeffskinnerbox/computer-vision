{
 "cells": [
  {
   "cell_type": "markdown",
   "metadata": {},
   "source": [
    "# Simple Facial Recognition Algorithm in OpenCV\n",
    "\n",
    "* Rodrigo Agundez - Building a live face recognition system in the blink of a very slow eye - https://www.youtube.com/watch?v=MDaZtJPv3Ik\n",
    "* https://github.com/rragundez/PyData"
   ]
  },
  {
   "cell_type": "markdown",
   "metadata": {},
   "source": [
    "# Sources\n",
    "* [Face Recognition on the Command-Line](https://github.com/ageitgey/face_recognition?utm_source=DigitalOcean_Newsletter)\n",
    "* [Raspberry Pi Facial Recognition](https://www.hackster.io/gr1m/raspberry-pi-facial-recognition-16e34e?utm_source=hackster&utm_medium=email&utm_campaign=new_projects)\n",
    "* [AI Facial Recognition Lock](https://project.seeedstudio.com/Nyceane/ai-facial-recognition-lock-7a3e43)\n",
    "* [Building a Facial Recognition Pipeline with Deep Learning in Tensorflow](https://hackernoon.com/building-a-facial-recognition-pipeline-with-deep-learning-in-tensorflow-66e7645015b8)"
   ]
  }
 ],
 "metadata": {
  "kernelspec": {
   "display_name": "Python 3",
   "language": "python",
   "name": "python3"
  },
  "language_info": {
   "codemirror_mode": {
    "name": "ipython",
    "version": 3
   },
   "file_extension": ".py",
   "mimetype": "text/x-python",
   "name": "python",
   "nbconvert_exporter": "python",
   "pygments_lexer": "ipython3",
   "version": "3.6.3"
  }
 },
 "nbformat": 4,
 "nbformat_minor": 2
}
