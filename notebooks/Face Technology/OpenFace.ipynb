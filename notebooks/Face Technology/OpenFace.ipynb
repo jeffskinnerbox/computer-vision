{
 "cells": [
  {
   "cell_type": "markdown",
   "metadata": {},
   "source": [
    "Researchers at Carnegie Mellon University have put together an open source facial recognition program\n",
    "based on [Google’s FaceNet research][01].\n",
    "Called [OpenFace][02], the developers say that it can recognize faces in real time\n",
    "with just 10 reference photos of the person.\n",
    "Check out this [video][03] to see the OpenFace in action.\n",
    "\n",
    "In 2015, [Google claimed][04] that FaceNet represents the most-accurate approach yet to recognizing human faces.\n",
    "For a layman's discription of how OpenFace works,\n",
    "check out \"[OpenFace: A general-purpose face recognition library with mobile applications](http://reports-archive.adm.cs.cmu.edu/anon/anon/2016/CMU-CS-16-118.pdf)\".\n",
    "\n",
    "[01]:https://arxiv.org/pdf/1503.03832.pdf\n",
    "[02]:https://github.com/cmusatyalab/openface\n",
    "[03]:https://www.youtube.com/watch?v=LZJOTRkjZA4\n",
    "[04]:http://fortune.com/2015/03/17/google-facenet-artificial-intelligence/"
   ]
  },
  {
   "cell_type": "markdown",
   "metadata": {},
   "source": [
    "# Sources\n",
    "* [OpenCV Face Recognition](https://www.pyimagesearch.com/2018/09/24/opencv-face-recognition/)\n",
    "* [OpenFace - Free and open source face recognition with deep neural networks](https://cmusatyalab.github.io/openface/)\n",
    "* [OpenFace: A general-purpose face recognition library with mobile applications](http://reports-archive.adm.cs.cmu.edu/anon/anon/2016/CMU-CS-16-118.pdf)\n",
    "\n",
    "\n",
    "* https://github.com/cmusatyalab/openface"
   ]
  },
  {
   "cell_type": "markdown",
   "metadata": {},
   "source": [
    "Consider this for implementation advice: [Machine Learning is Fun! Part 4: Modern Face Recognition with Deep Learning](https://medium.com/@ageitgey/machine-learning-is-fun-part-4-modern-face-recognition-with-deep-learning-c3cffc121d78)\n",
    "\n",
    "* [Face Recognition: Kairos vs Microsoft vs Google vs Amazon vs OpenCV](https://www.kairos.com/blog/face-recognition-kairos-vs-microsoft-vs-google-vs-amazon-vs-opencv)"
   ]
  }
 ],
 "metadata": {
  "kernelspec": {
   "display_name": "Python 3",
   "language": "python",
   "name": "python3"
  },
  "language_info": {
   "codemirror_mode": {
    "name": "ipython",
    "version": 3
   },
   "file_extension": ".py",
   "mimetype": "text/x-python",
   "name": "python",
   "nbconvert_exporter": "python",
   "pygments_lexer": "ipython3",
   "version": "3.6.6"
  }
 },
 "nbformat": 4,
 "nbformat_minor": 2
}
