{
 "cells": [
  {
   "cell_type": "markdown",
   "metadata": {},
   "source": [
    "# Simple Facial Detection Algorithm in OpenCV\n",
    "A computer program that decides whether an image is a positive image (face image)\n",
    "or negative image (non-face image) is called a **classifier**.\n",
    "A classifier is trained on hundreds of thousands of face and non-face images to\n",
    "learn how to classify a new image correctly.\n",
    "OpenCV provides us with two pre-trained and ready to be used for face detection classifiers\n",
    "(good description of these classifiers and how they compare can be found\n",
    "[here](https://www.superdatascience.com/opencv-face-detection/)):\n",
    "\n",
    "1. [Haar Classifier](https://docs.opencv.org/3.3.0/d7/d8b/tutorial_py_face_detection.html)\n",
    "2. Local Binary Patterns (LBP) Classifier\n",
    "\n",
    "Both of these classifiers process images in grayscale,\n",
    "basically because we don't need color information to decide if a picture has a face or not.\n",
    "As these are pre-trained in OpenCV, their learned knowledge files\n",
    "also come bundled with OpenCV in XML files stored in `..opencv-3.3.0/data/haarcascades/` and\n",
    "`..opencv-3.3.0/data/lbpcascades/` folders.\n",
    "\n",
    "* https://www.superdatascience.com/opencv-face-detection/\n",
    "* Rodrigo Agundez - Building a live face recognition system in the blink of a very slow eye - https://www.youtube.com/watch?v=MDaZtJPv3Ik\n",
    "* https://github.com/rragundez/PyData"
   ]
  },
  {
   "cell_type": "markdown",
   "metadata": {},
   "source": [
    "We use `v2.CascadeClassifier.detectMultiScale()` to find faces or eyes,\n",
    "and it is defined like this:\n",
    "\n",
    "`cv2.CascadeClassifier.detectMultiScale(image[, scaleFactor[, minNeighbors[, flags[, minSize[, maxSize]]]]])`\n",
    "\n",
    "Where the parameters are:\n",
    "\n",
    "* `image`: Matrix of the [type CV_8U][01] containing an image where objects are detected.\n",
    "* `scaleFactor`: Parameter specifying how much the image size is reduced at each image scale. This scale factor is used to create [scale pyramid][02]. Suppose, the scale factor is 1.03, it means we're using a small step for resizing, i.e. reduce size by 3%, we increase the chance of a matching size with the model for detection is found, while it's expensive.\n",
    "* `minNeighbors`: Parameter specifying how many neighbors each candidate rectangle should have to retain it. This parameter will affect the quality of the detected faces: higher value results in less detections but with higher quality.\n",
    "* `flags`: Parameter with the same meaning for an old cascade as in the function cvHaarDetectObjects. It is not used for a new cascade.\n",
    "* `minSize`: Minimum possible object size. Objects smaller than that are ignored.\n",
    "* `maxSize`: Maximum possible object size. Objects larger than that are ignored.\n",
    "\n",
    "[01]:http://dovgalecs.com/blog/opencv-matrix-types/\n",
    "[02]:https://docs.opencv.org/3.3.0/d4/d1f/tutorial_pyramids.html"
   ]
  },
  {
   "cell_type": "code",
   "execution_count": 1,
   "metadata": {},
   "outputs": [],
   "source": [
    "import cv2\n",
    "import sys\n",
    "import logging as log\n",
    "import datetime as dt\n",
    "from time import sleep\n",
    "\n",
    "#setting up the haar cascade classifiers from the opencv installation\n",
    "facePath = \"/home/jeff/src/opencv-3.3.0/data/haarcascades/haarcascade_frontalface_default.xml\"\n",
    "eyePath = \"/home/jeff/src/opencv-3.3.0/data/haarcascades/haarcascade_eye.xml\"\n",
    "faceCascade = cv2.CascadeClassifier(facePath)\n",
    "eyeCascade = cv2.CascadeClassifier(eyePath)\n",
    "\n",
    "log.basicConfig(filename='/home/jeff/tmp/webcam.log', level=log.INFO)\n",
    "\n",
    "video_capture = cv2.VideoCapture(0)\n",
    "anterior = 0"
   ]
  },
  {
   "cell_type": "code",
   "execution_count": 2,
   "metadata": {},
   "outputs": [
    {
     "ename": "error",
     "evalue": "/home/jeff/src/opencv-3.4.0/modules/objdetect/src/cascadedetect.cpp:1698: error: (-215) !empty() in function detectMultiScale\n",
     "output_type": "error",
     "traceback": [
      "\u001b[0;31m---------------------------------------------------------------------------\u001b[0m",
      "\u001b[0;31merror\u001b[0m                                     Traceback (most recent call last)",
      "\u001b[0;32m<ipython-input-2-691ae996009b>\u001b[0m in \u001b[0;36m<module>\u001b[0;34m()\u001b[0m\n\u001b[1;32m     12\u001b[0m \u001b[0;34m\u001b[0m\u001b[0m\n\u001b[1;32m     13\u001b[0m     \u001b[0;31m# find the faces\u001b[0m\u001b[0;34m\u001b[0m\u001b[0;34m\u001b[0m\u001b[0m\n\u001b[0;32m---> 14\u001b[0;31m     \u001b[0mfaces\u001b[0m \u001b[0;34m=\u001b[0m \u001b[0mfaceCascade\u001b[0m\u001b[0;34m.\u001b[0m\u001b[0mdetectMultiScale\u001b[0m\u001b[0;34m(\u001b[0m\u001b[0mgray\u001b[0m\u001b[0;34m,\u001b[0m \u001b[0mscaleFactor\u001b[0m\u001b[0;34m=\u001b[0m\u001b[0;36m1.1\u001b[0m\u001b[0;34m,\u001b[0m \u001b[0mminNeighbors\u001b[0m\u001b[0;34m=\u001b[0m\u001b[0;36m5\u001b[0m\u001b[0;34m,\u001b[0m \u001b[0mminSize\u001b[0m\u001b[0;34m=\u001b[0m\u001b[0;34m(\u001b[0m\u001b[0;36m30\u001b[0m\u001b[0;34m,\u001b[0m \u001b[0;36m30\u001b[0m\u001b[0;34m)\u001b[0m\u001b[0;34m)\u001b[0m\u001b[0;34m\u001b[0m\u001b[0m\n\u001b[0m\u001b[1;32m     15\u001b[0m \u001b[0;34m\u001b[0m\u001b[0m\n\u001b[1;32m     16\u001b[0m     \u001b[0;31m# Draw a rectangle around the faces\u001b[0m\u001b[0;34m\u001b[0m\u001b[0;34m\u001b[0m\u001b[0m\n",
      "\u001b[0;31merror\u001b[0m: /home/jeff/src/opencv-3.4.0/modules/objdetect/src/cascadedetect.cpp:1698: error: (-215) !empty() in function detectMultiScale\n"
     ]
    }
   ],
   "source": [
    "while True:\n",
    "    if not video_capture.isOpened():\n",
    "        print('Unable to load camera.')\n",
    "        sleep(5)\n",
    "        pass\n",
    "\n",
    "    # Capture frame-by-frame\n",
    "    ret, frame = video_capture.read()\n",
    "\n",
    "    # convert frame to gray scale\n",
    "    gray = cv2.cvtColor(frame, cv2.COLOR_BGR2GRAY)\n",
    "\n",
    "    # find the faces\n",
    "    faces = faceCascade.detectMultiScale(gray, scaleFactor=1.1, minNeighbors=5, minSize=(30, 30))\n",
    "\n",
    "    # Draw a rectangle around the faces\n",
    "    for (x, y, w, h) in faces:\n",
    "        cv2.rectangle(frame, (x, y), (x+w, y+h), (0, 255, 0), 2)\n",
    "\n",
    "    if anterior != len(faces):\n",
    "        anterior = len(faces)\n",
    "        log.info(\"faces: \"+str(len(faces))+\" at \"+str(dt.datetime.now()))\n",
    "\n",
    "    #for each face, find the eyes, and draw a box around the eyes\n",
    "    for (x, y, w, h) in faces:\n",
    "        roi_gray = gray[y:y+h, x:x+w]\n",
    "        roi_color = frame[y:y+h, x:x+w]\n",
    "        eyes = eyeCascade.detectMultiScale(roi_gray)\n",
    "        for (ex, ey, ew, eh) in eyes:\n",
    "            cv2.rectangle(roi_color, (ex, ey), (ex+ew, ey+eh), (225, 0, 0), 1)\n",
    "\n",
    "    # Display the resulting frame\n",
    "    cv2.imshow('Video', frame)\n",
    "\n",
    "    #stop reading frames if you press 'q'\n",
    "    if cv2.waitKey(1) & 0xFF == ord('q'):\n",
    "        break\n",
    "\n",
    "    # Display the resulting frame\n",
    "    cv2.imshow('Video', frame)\n",
    "\n",
    "# When everything is done, release the capture\n",
    "video_capture.release()\n",
    "cv2.destroyAllWindows()"
   ]
  },
  {
   "cell_type": "markdown",
   "metadata": {},
   "source": [
    "# Sources\n",
    "* [Face Detection in Python Using a Webcam](https://realpython.com/blog/python/face-detection-in-python-using-a-webcam/)\n",
    "* [FACE DETECTION USING OPENCV AND PYTHON: A BEGINNER’S GUIDE](https://www.superdatascience.com/opencv-face-detection/)\n",
    "* [Face Recognition With Python, in Under 25 Lines of Code](https://realpython.com/blog/python/face-recognition-with-python/)\n",
    "* [FACE RECOGNITION USING OPENCV AND PYTHON: A BEGINNER’S GUIDE](https://www.superdatascience.com/opencv-face-recognition/)\n",
    "* [Face detection with OpenCV and deep learning](https://www.pyimagesearch.com/2018/02/26/face-detection-with-opencv-and-deep-learning/)\n",
    "\n",
    "* [A Practical Guide To Using Face Technology (Part I)](https://medium.com/iotforall/a-practical-guide-to-using-face-technology-part-i-7fe3fdb1bc4f)\n",
    "* [Part II ???]()\n",
    "* [Raspberry Pi: Facial landmarks + drowsiness detection with OpenCV and dlib](https://www.pyimagesearch.com/2017/10/23/raspberry-pi-facial-landmarks-drowsiness-detection-with-opencv-and-dlib/)\n",
    "* [Drowsiness detection with OpenCV](https://www.pyimagesearch.com/2017/05/08/drowsiness-detection-opencv/)\n",
    "* [Remote video streaming with face detection](https://medium.com/@QuantuMobile/remote-video-streaming-with-face-detection-d52ce2d71419)\n",
    "* [Real-time face detection using OpenCV, Node.js, and WebSockets](http://drejkim.com/blog/2014/12/02/real-time-face-detection-using-opencv-nodejs-and-websockets/)\n",
    "* [RasPi + OpenCV = Face Tracking](http://www.instructables.com/id/RasPi-OpenCV-Face-Tracking/)\n",
    "* [Face Recognition on the Command-Line](https://github.com/ageitgey/face_recognition?utm_source=DigitalOcean_Newsletter)\n",
    "* [Raspberry Pi Facial Recognition](https://www.hackster.io/gr1m/raspberry-pi-facial-recognition-16e34e?utm_source=hackster&utm_medium=email&utm_campaign=new_projects)\n",
    "* [Smile Detection with Raspberry Pi Using OpenCV and Python](https://github.com/DeligenceTechnologies/Smile-detection-with-raspberry-pi-using-opencv-and-python)"
   ]
  }
 ],
 "metadata": {
  "kernelspec": {
   "display_name": "Python 3",
   "language": "python",
   "name": "python3"
  },
  "language_info": {
   "codemirror_mode": {
    "name": "ipython",
    "version": 3
   },
   "file_extension": ".py",
   "mimetype": "text/x-python",
   "name": "python",
   "nbconvert_exporter": "python",
   "pygments_lexer": "ipython3",
   "version": "3.6.3"
  }
 },
 "nbformat": 4,
 "nbformat_minor": 2
}
