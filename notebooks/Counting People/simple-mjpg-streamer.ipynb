{
 "cells": [
  {
   "cell_type": "code",
   "execution_count": 1,
   "metadata": {},
   "outputs": [
    {
     "ename": "SyntaxError",
     "evalue": "Missing parentheses in call to 'print' (<ipython-input-1-709aaed1314e>, line 61)",
     "output_type": "error",
     "traceback": [
      "\u001b[0;36m  File \u001b[0;32m\"<ipython-input-1-709aaed1314e>\"\u001b[0;36m, line \u001b[0;32m61\u001b[0m\n\u001b[0;31m    print \"server started\"\u001b[0m\n\u001b[0m                         ^\u001b[0m\n\u001b[0;31mSyntaxError\u001b[0m\u001b[0;31m:\u001b[0m Missing parentheses in call to 'print'\n"
     ]
    }
   ],
   "source": [
    "#!/usr/bin/python\n",
    "'''\n",
    "\tAuthor: Igor Maculan - n3wtron@gmail.com\n",
    "\tA Simple mjpg stream http server\n",
    "'''\n",
    "import cv2\n",
    "import Image\n",
    "import threading\n",
    "from BaseHTTPServer import BaseHTTPRequestHandler,HTTPServer\n",
    "from SocketServer import ThreadingMixIn\n",
    "import StringIO\n",
    "import time\n",
    "capture=None\n",
    "\n",
    "class CamHandler(BaseHTTPRequestHandler):\n",
    "\tdef do_GET(self):\n",
    "\t\tif self.path.endswith('.mjpg'):\n",
    "\t\t\tself.send_response(200)\n",
    "\t\t\tself.send_header('Content-type','multipart/x-mixed-replace; boundary=--jpgboundary')\n",
    "\t\t\tself.end_headers()\n",
    "\t\t\twhile True:\n",
    "\t\t\t\ttry:\n",
    "\t\t\t\t\trc,img = capture.read()\n",
    "\t\t\t\t\tif not rc:\n",
    "\t\t\t\t\t\tcontinue\n",
    "\t\t\t\t\timgRGB=cv2.cvtColor(img,cv2.COLOR_BGR2RGB)\n",
    "\t\t\t\t\tjpg = Image.fromarray(imgRGB)\n",
    "\t\t\t\t\ttmpFile = StringIO.StringIO()\n",
    "\t\t\t\t\tjpg.save(tmpFile,'JPEG')\n",
    "\t\t\t\t\tself.wfile.write(\"--jpgboundary\")\n",
    "\t\t\t\t\tself.send_header('Content-type','image/jpeg')\n",
    "\t\t\t\t\tself.send_header('Content-length',str(tmpFile.len))\n",
    "\t\t\t\t\tself.end_headers()\n",
    "\t\t\t\t\tjpg.save(self.wfile,'JPEG')\n",
    "\t\t\t\t\ttime.sleep(0.05)\n",
    "\t\t\t\texcept KeyboardInterrupt:\n",
    "\t\t\t\t\tbreak\n",
    "\t\t\treturn\n",
    "\t\tif self.path.endswith('.html'):\n",
    "\t\t\tself.send_response(200)\n",
    "\t\t\tself.send_header('Content-type','text/html')\n",
    "\t\t\tself.end_headers()\n",
    "\t\t\tself.wfile.write('<html><head></head><body>')\n",
    "\t\t\tself.wfile.write('<img src=\"http://127.0.0.1:8080/cam.mjpg\"/>')\n",
    "\t\t\tself.wfile.write('</body></html>')\n",
    "\t\t\treturn\n",
    "\n",
    "\n",
    "class ThreadedHTTPServer(ThreadingMixIn, HTTPServer):\n",
    "\t\"\"\"Handle requests in a separate thread.\"\"\"\n",
    "\n",
    "def main():\n",
    "\tglobal capture\n",
    "\tcapture = cv2.VideoCapture(0)\n",
    "\tcapture.set(cv2.cv.CV_CAP_PROP_FRAME_WIDTH, 320); \n",
    "\tcapture.set(cv2.cv.CV_CAP_PROP_FRAME_HEIGHT, 240);\n",
    "\tcapture.set(cv2.cv.CV_CAP_PROP_SATURATION,0.2);\n",
    "\tglobal img\n",
    "\ttry:\n",
    "\t\tserver = ThreadedHTTPServer(('localhost', 8080), CamHandler)\n",
    "\t\tprint \"server started\"\n",
    "\t\tserver.serve_forever()\n",
    "\texcept KeyboardInterrupt:\n",
    "\t\tcapture.release()\n",
    "\t\tserver.socket.close()\n",
    "\n",
    "if __name__ == '__main__':\n",
    "\tmain()"
   ]
  },
  {
   "cell_type": "code",
   "execution_count": null,
   "metadata": {
    "collapsed": true
   },
   "outputs": [],
   "source": []
  }
 ],
 "metadata": {
  "kernelspec": {
   "display_name": "Python 3",
   "language": "python",
   "name": "python3"
  },
  "language_info": {
   "codemirror_mode": {
    "name": "ipython",
    "version": 3
   },
   "file_extension": ".py",
   "mimetype": "text/x-python",
   "name": "python",
   "nbconvert_exporter": "python",
   "pygments_lexer": "ipython3",
   "version": "3.5.3"
  }
 },
 "nbformat": 4,
 "nbformat_minor": 2
}
