{
 "cells": [
  {
   "cell_type": "markdown",
   "metadata": {},
   "source": [
    "# People Counter Tutorial \n",
    "Check this out: [OpenCV People Counter](https://www.pyimagesearch.com/2018/08/13/opencv-people-counter/).\n",
    "It likely works better."
   ]
  },
  {
   "cell_type": "markdown",
   "metadata": {},
   "source": [
    "## Setting Up Your Environment\n",
    "I'm using Linux (Ubuntu specifically) for all my work here."
   ]
  },
  {
   "cell_type": "markdown",
   "metadata": {},
   "source": [
    "### Installing Python"
   ]
  },
  {
   "cell_type": "markdown",
   "metadata": {},
   "source": [
    "### Installing Jupyter"
   ]
  },
  {
   "cell_type": "markdown",
   "metadata": {},
   "source": [
    "### Installing OpenCV"
   ]
  },
  {
   "cell_type": "code",
   "execution_count": 1,
   "metadata": {},
   "outputs": [
    {
     "ename": "error",
     "evalue": "/home/jeff/src/opencv-3.4.0/modules/imgproc/src/color.cpp:11111: error: (-215) scn == 3 || scn == 4 in function cvtColor\n",
     "output_type": "error",
     "traceback": [
      "\u001b[0;31m---------------------------------------------------------------------------\u001b[0m",
      "\u001b[0;31merror\u001b[0m                                     Traceback (most recent call last)",
      "\u001b[0;32m<ipython-input-1-a89bc76b058e>\u001b[0m in \u001b[0;36m<module>\u001b[0;34m()\u001b[0m\n\u001b[1;32m      6\u001b[0m \u001b[0mimg\u001b[0m \u001b[0;34m=\u001b[0m \u001b[0mcv2\u001b[0m\u001b[0;34m.\u001b[0m\u001b[0mimread\u001b[0m\u001b[0;34m(\u001b[0m\u001b[0mbase\u001b[0m \u001b[0;34m+\u001b[0m \u001b[0;34m'eagle.png'\u001b[0m\u001b[0;34m)\u001b[0m                           \u001b[0;31m# load color image\u001b[0m\u001b[0;34m\u001b[0m\u001b[0m\n\u001b[1;32m      7\u001b[0m \u001b[0;34m\u001b[0m\u001b[0m\n\u001b[0;32m----> 8\u001b[0;31m \u001b[0mimgGS\u001b[0m \u001b[0;34m=\u001b[0m \u001b[0mcv2\u001b[0m\u001b[0;34m.\u001b[0m\u001b[0mcvtColor\u001b[0m\u001b[0;34m(\u001b[0m\u001b[0mimg\u001b[0m\u001b[0;34m,\u001b[0m \u001b[0mcv2\u001b[0m\u001b[0;34m.\u001b[0m\u001b[0mCOLOR_BGR2GRAY\u001b[0m\u001b[0;34m)\u001b[0m                  \u001b[0;31m# convert color to grayscale\u001b[0m\u001b[0;34m\u001b[0m\u001b[0m\n\u001b[0m\u001b[1;32m      9\u001b[0m \u001b[0mcv2\u001b[0m\u001b[0;34m.\u001b[0m\u001b[0mimwrite\u001b[0m\u001b[0;34m(\u001b[0m\u001b[0mbase\u001b[0m \u001b[0;34m+\u001b[0m \u001b[0;34m\"grayscale-eagle.png\"\u001b[0m\u001b[0;34m,\u001b[0m \u001b[0mimgGS\u001b[0m\u001b[0;34m)\u001b[0m               \u001b[0;31m# save grayscale image\u001b[0m\u001b[0;34m\u001b[0m\u001b[0m\n\u001b[1;32m     10\u001b[0m \u001b[0;34m\u001b[0m\u001b[0m\n",
      "\u001b[0;31merror\u001b[0m: /home/jeff/src/opencv-3.4.0/modules/imgproc/src/color.cpp:11111: error: (-215) scn == 3 || scn == 4 in function cvtColor\n"
     ]
    }
   ],
   "source": [
    "import cv2\n",
    "import numpy as np\n",
    "\n",
    "base = '/home/jeff/src/Jupyter-Notebooks/DatasSets/Images/'\n",
    "\n",
    "img = cv2.imread(base + 'eagle.png')                           # load color image\n",
    "\n",
    "imgGS = cv2.cvtColor(img, cv2.COLOR_BGR2GRAY)                  # convert color to grayscale\n",
    "cv2.imwrite(base + \"grayscale-eagle.png\", imgGS)               # save grayscale image\n",
    "\n",
    "ret,imgBW = cv2.threshold(imgGS, 127, 255, cv2.THRESH_BINARY)  # binarization\n",
    "cv2.imwrite(base + \"binarization-eagle.png\", imgBW)            # save binary image\n",
    "\n",
    "cv2.imshow('Original image', img)                              # Display original image\n",
    "cv2.imshow('Grayscale image', imgGS)                           # Display grayscale image\n",
    "cv2.imshow('Binary image', imgBW)                              # Display binarized image\n",
    "\n",
    "cv2.waitKey(0)                                                 # wait here but exit with 'q' or ESC in window\n",
    "\n",
    "cv2.destroyAllWindows()                                        # close all your windows and stop "
   ]
  },
  {
   "cell_type": "markdown",
   "metadata": {},
   "source": [
    "## Opening Video Stream\n",
    "A video stream may be a video recording in a file or video from a webcam."
   ]
  },
  {
   "cell_type": "markdown",
   "metadata": {},
   "source": [
    "A VideoCapture object has several properties that you can access and sometimes change:\n",
    "\n",
    "* **CAP_PROP_POS_MSEC** - Current position of the video file in milliseconds or video capture timestamp.\n",
    "* **CAP_PROP_POS_FRAMES** - 0-based index of the frame to be decoded/captured next.\n",
    "* **CAP_PROP_POS_AVI_RATIO** - Relative position of the video file: 0 - start of the film, 1 - end of the film.\n",
    "* **CAP_PROP_FRAME_WIDTH** - Width of the frames in the video stream.\n",
    "* **CAP_PROP_FRAME_HEIGHT** - Height of the frames in the video stream.\n",
    "* **CAP_PROP_FPS** - Frame rate.\n",
    "* **CAP_PROP_FOURCC** - 4-character code of codec.\n",
    "* **CAP_PROP_FRAME_COUNT** - Number of frames in the video file.\n",
    "* **CAP_PROP_FORMAT** - Format of the [Mat][01] objects returned by retrieve() .\n",
    "* **CAP_PROP_MODE** - Backend-specific value indicating the current capture mode.\n",
    "* **CAP_PROP_BRIGHTNESS** - Brightness of the image (only for cameras).\n",
    "* **CAP_PROP_CONTRAST** - Contrast of the image (only for cameras).\n",
    "* **CAP_PROP_SATURATION** - Saturation of the image (only for cameras).\n",
    "* **CAP_PROP_HUE** - Hue of the image (only for cameras).\n",
    "* **CAP_PROP_GAIN** - Gain of the image (only for cameras).\n",
    "* **CAP_PROP_EXPOSURE** - Exposure (only for cameras).\n",
    "* **CAP_PROP_CONVERT_RGB** - Boolean flags indicating whether images should be converted to RGB.\n",
    "* **CAP_PROP_WHITE_BALANCE** - Currently not supported\n",
    "* **CAP_PROP_RECTIFICATION** - Rectification flag for stereo cameras (note: only supported by DC1394 v 2.x backend currently)\n",
    "\n",
    "\n",
    "\n",
    "[01]:http://docs.opencv.org/3.3.0/d3/d63/classcv_1_1Mat.html"
   ]
  },
  {
   "cell_type": "code",
   "execution_count": 4,
   "metadata": {},
   "outputs": [
    {
     "ename": "SyntaxError",
     "evalue": "unexpected EOF while parsing (<ipython-input-4-d7f7f529143a>, line 27)",
     "output_type": "error",
     "traceback": [
      "\u001b[0;36m  File \u001b[0;32m\"<ipython-input-4-d7f7f529143a>\"\u001b[0;36m, line \u001b[0;32m27\u001b[0m\n\u001b[0;31m    \u001b[0m\n\u001b[0m    ^\u001b[0m\n\u001b[0;31mSyntaxError\u001b[0m\u001b[0;31m:\u001b[0m unexpected EOF while parsing\n"
     ]
    }
   ],
   "source": [
    "class VidCapProp:\n",
    "    def __init__(self, vidcap):\n",
    "        self.getall()\n",
    "    \n",
    "    def getall(self):\n",
    "        self.POS_MSEC = vidcap.get(CAP_PROP_POS_MSEC)             # Current position of the video file in milliseconds or video capture timestamp\n",
    "        self.POS_FRAMES = vidcap.get(CAP_PROP_POS_FRAMES)         # 0-based index of the frame to be decoded/captured next\n",
    "        self.POS_AVI_RATIO = vidcap.get(CAP_PROP_POS_AVI_RATIO)   # Relative position of the video file: 0 - start of the film, 1 - end of the film\n",
    "        self.FRAME_WIDTH = vidcap.get(CAP_PROP_FRAME_WIDTH)       # Width of the frames in the video stream\n",
    "        self.FRAME_HEIGHT = vidcap.get(CAP_PROP_FRAME_HEIGHT)     # Height of the frames in the video stream\n",
    "        self.FPS = vidcap.get(CAP_PROP_FPS)                       # Frame rate\n",
    "        self.FOURCC = vidcap.get(CAP_PROP_FOURCC)                 # 4-character code of codec\n",
    "        self.FRAME_COUNT = vidcap.get(CAP_PROP_FRAME_COUNT)       # Number of frames in the video file\n",
    "        self.FORMAT = vidcap.get(CAP_PROP_FORMAT)                 # Format of the Mat objects returned by retrieve()\n",
    "        self.MODE = vidcap.get(CAP_PROP_MODE)                     # Backend-specific value indicating the current capture mode\n",
    "        self.BRIGHTNESS = vidcap.get(CAP_PROP_BRIGHTNESS)         # Brightness of the image (only for cameras)\n",
    "        self.CONTRAST = vidcap.get(CAP_PROP_CONTRAST)             # Contrast of the image (only for cameras)\n",
    "        self.SATURATION = vidcap.get(CAP_PROP_SATURATION)         # Saturation of the image (only for cameras)\n",
    "        self.HUE = vidcap.get(CAP_PROP_HUE)                       # Hue of the image (only for cameras)\n",
    "        self.GAIN = vidcap.get(CAP_PROP_GAIN)                     # Gain of the image (only for cameras)\n",
    "        self.EXPOSURE = vidcap.get(CAP_PROP_EXPOSURE)             # Exposure (only for cameras)\n",
    "        self.CONVERT_RGB = vidcap.get(CAP_PROP_CONVERT_RGB)       # Boolean flags indicating whether images should be converted to RGB\n",
    "        self.WHITE_BALANCE = vidcap.get(CAP_PROP_WHITE_BALANCE)   # Currently not supported\n",
    "        self.RECTIFICATION = vidcap.get(CAP_PROP_RECTIFICATION)   # Rectification flag for stereo cameras (note: only supported by DC1394 v 2.x backend currently)\n",
    "        \n",
    "    def printall(self):\n",
    "        "
   ]
  },
  {
   "cell_type": "code",
   "execution_count": 2,
   "metadata": {},
   "outputs": [
    {
     "name": "stdout",
     "output_type": "stream",
     "text": [
      "0 0.0\n",
      "1 -1.0\n",
      "2 -1.0\n",
      "3 640.0\n",
      "4 480.0\n",
      "5 30.0\n",
      "6 1196444237.0\n",
      "7 -1.0\n",
      "8 16.0\n",
      "9 1196444237.0\n",
      "10 0.5019607843137255\n",
      "11 0.12549019607843137\n",
      "12 0.12549019607843137\n",
      "13 -1.0\n",
      "14 0.9333333333333333\n",
      "15 inf\n",
      "16 1.0\n",
      "17 -1.0\n",
      "18 -1.0\n"
     ]
    }
   ],
   "source": [
    "import numpy as np\n",
    "import cv2\n",
    "\n",
    "cap = cv2.VideoCapture(0)\n",
    "\n",
    "#show all video properties\n",
    "for i in range(19):\n",
    "    print(i, cap.get(i))\n",
    "\n",
    "cap.set(3,160) #set width\n",
    "cap.set(4,120) #set height\n",
    "    \n",
    "while(cap.isOpened()):\n",
    "    ret, frame = cap.read()\n",
    "    try:\n",
    "        cv2.imshow('Frame',frame)\n",
    "    except:\n",
    "        print('EOF')\n",
    "        break\n",
    "\n",
    "    k = cv2.waitKey(30) & 0xff\n",
    "    if k == 27:\n",
    "        break\n",
    "\n",
    "cap.release()\n",
    "cv2.destroyAllWindows()"
   ]
  },
  {
   "cell_type": "markdown",
   "metadata": {},
   "source": [
    "## Sources\n",
    "* [People Counter 1 – Installing Python, OpenCV and trying it out](http://www.femb.com.mx/people-counter/people-counter-1-installing-python-opencv-and-trying-it-out/)\n",
    "* [People Counter 2 – Opening a video stream](http://www.femb.com.mx/people-counter/people-counter-2-opening-a-video-stream/)\n",
    "* [People Counter 3 – Drawing in the video window](http://www.femb.com.mx/people-counter/people-counter-3-drawing-in-the-video-window/)\n",
    "* [People Counter 4 – Background Susbtraction](http://www.femb.com.mx/people-counter/people-counter-4-background-susbtraction/)\n",
    "* [People Counter 5 – Morphological Transformations](http://www.femb.com.mx/people-counter/people-counter-5-morphological-transformations/)\n",
    "* [People Counter 6 – Find contours](http://www.femb.com.mx/people-counter/people-counter-6-find-contours/)\n",
    "* [People Counter 7 – Defining a person](http://www.femb.com.mx/people-counter/people-counter-7-defining-a-person/)\n",
    "* [People Counter 8 – Following movement](http://www.femb.com.mx/people-counter/people-counter-8-finding-movement/)\n",
    "* [People Counter 9 – Counting](http://www.femb.com.mx/people-counter/people-counter-9-counting/)"
   ]
  }
 ],
 "metadata": {
  "kernelspec": {
   "display_name": "Python 3",
   "language": "python",
   "name": "python3"
  },
  "language_info": {
   "codemirror_mode": {
    "name": "ipython",
    "version": 3
   },
   "file_extension": ".py",
   "mimetype": "text/x-python",
   "name": "python",
   "nbconvert_exporter": "python",
   "pygments_lexer": "ipython3",
   "version": "3.6.5"
  }
 },
 "nbformat": 4,
 "nbformat_minor": 2
}
