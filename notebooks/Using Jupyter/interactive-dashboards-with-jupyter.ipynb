{
 "cells": [
  {
   "cell_type": "markdown",
   "metadata": {},
   "source": [
    "# Interactive Dashboards with Jupyter\n",
    "Let's say that you have to regularly send a [Folium](https://blog.dominodatalab.com/creating-interactive-crime-maps-with-folium/)\n",
    "map to your colleague's email with all the earthquakes of the past day.\n",
    "To be able to do that, you first need an earthquake data set that updates regularly (at least daily).\n",
    "A data feed that updates every 5 minutes can be found at the [USGS website](https://earthquake.usgs.gov/earthquakes/feed/v1.0/csv.php).\n",
    "Then, you can use Jupyter to write the code to load this data and create the map."
   ]
  },
  {
   "cell_type": "markdown",
   "metadata": {},
   "source": [
    "## Folium\n",
    "Folium is a powerful Python library that helps you create several types of [Leaflet](http://leafletjs.com/) maps.\n",
    "The fact that the Folium results are interactive makes this library very useful for dashboard building.\n",
    "To get an idea, just zoom/click around on the next map to get an impression.\n",
    "The [Folium github](https://github.com/python-visualization/folium) contains many other examples.\n",
    "\n",
    "By default, Folium creates a map in a separate HTML file.\n",
    "In case you use Jupyter, you might prefer to get inline maps.\n",
    "This Jupyter example shows how to display maps inline."
   ]
  },
  {
   "cell_type": "code",
   "execution_count": 1,
   "metadata": {},
   "outputs": [
    {
     "name": "stdout",
     "output_type": "stream",
     "text": [
      "Folium Version:  0.4.0\n"
     ]
    }
   ],
   "source": [
    "import folium\n",
    "from IPython.display import HTML\n",
    "\n",
    "def display(m, height=300):\n",
    "    \"\"\"Takes a folium instance and embed HTML.\"\"\"\n",
    "    m._build_map()\n",
    "    srcdoc = m.HTML.replace('\"', '&quot;')\n",
    "    embed = HTML('<iframe srcdoc=\"{0}\" '\n",
    "                 'style=\"width: 100%; height: {1}px; '\n",
    "                 'border: none\"></iframe>'.format(srcdoc, height))\n",
    "    return embed\n",
    "\n",
    "# print version number of your Folium package\n",
    "print(\"Folium Version: \", folium.__version__)"
   ]
  },
  {
   "cell_type": "code",
   "execution_count": 2,
   "metadata": {},
   "outputs": [
    {
     "ename": "AttributeError",
     "evalue": "'Map' object has no attribute 'simple_marker'",
     "output_type": "error",
     "traceback": [
      "\u001b[0;31m---------------------------------------------------------------------------\u001b[0m",
      "\u001b[0;31mAttributeError\u001b[0m                            Traceback (most recent call last)",
      "\u001b[0;32m<ipython-input-2-e00c6b529b10>\u001b[0m in \u001b[0;36m<module>\u001b[0;34m()\u001b[0m\n\u001b[1;32m      1\u001b[0m \u001b[0mmap\u001b[0m \u001b[0;34m=\u001b[0m \u001b[0mfolium\u001b[0m\u001b[0;34m.\u001b[0m\u001b[0mMap\u001b[0m\u001b[0;34m(\u001b[0m\u001b[0mlocation\u001b[0m\u001b[0;34m=\u001b[0m\u001b[0;34m[\u001b[0m\u001b[0;36m37.76\u001b[0m\u001b[0;34m,\u001b[0m \u001b[0;34m-\u001b[0m\u001b[0;36m122.45\u001b[0m\u001b[0;34m]\u001b[0m\u001b[0;34m)\u001b[0m\u001b[0;34m\u001b[0m\u001b[0m\n\u001b[0;32m----> 2\u001b[0;31m \u001b[0mmap\u001b[0m\u001b[0;34m.\u001b[0m\u001b[0msimple_marker\u001b[0m\u001b[0;34m(\u001b[0m\u001b[0;34m[\u001b[0m\u001b[0;36m37.76\u001b[0m\u001b[0;34m,\u001b[0m \u001b[0;34m-\u001b[0m\u001b[0;36m122.45\u001b[0m\u001b[0;34m]\u001b[0m\u001b[0;34m)\u001b[0m\u001b[0;34m\u001b[0m\u001b[0m\n\u001b[0m\u001b[1;32m      3\u001b[0m \u001b[0mdisplay\u001b[0m\u001b[0;34m(\u001b[0m\u001b[0mmap\u001b[0m\u001b[0;34m)\u001b[0m\u001b[0;34m\u001b[0m\u001b[0m\n",
      "\u001b[0;31mAttributeError\u001b[0m: 'Map' object has no attribute 'simple_marker'"
     ]
    }
   ],
   "source": [
    "map = folium.Map(location=[37.76, -122.45])\n",
    "map.simple_marker([37.76, -122.45])\n",
    "display(map)"
   ]
  },
  {
   "cell_type": "markdown",
   "metadata": {},
   "source": [
    "## Dashboard"
   ]
  },
  {
   "cell_type": "code",
   "execution_count": null,
   "metadata": {},
   "outputs": [],
   "source": [
    "import pandas as pd\n",
    "import folium\n",
    "from matplotlib.colors import Normalize, rgb2hex\n",
    "import matplotlib.cm as cm\n",
    "\n",
    "data = pd.read_csv('http://earthquake.usgs.gov/earthquakes/feed/v1.0/summary/all_day.csv')\n",
    "norm = Normalize(data['mag'].min(), data['mag'].max())\n",
    "\n",
    "map = folium.Map(location=[48, -102], zoom_start=3)\n",
    "for eq in data.iterrows():\n",
    "    color = rgb2hex(cm.OrRd(norm(float(eq[1]['mag']))))\n",
    "    map.circle_marker([eq[1]['latitude'], eq[1]['longitude']], \n",
    "                    popup=eq[1]['place'], \n",
    "                    radius=20000*float(eq[1]['mag']),\n",
    "                    line_color=color,\n",
    "                    fill_color=color)\n",
    "\n",
    "map.create_map(path='results/earthquake.html')\n",
    "\n",
    "# need to replace CDN with https URLs\n",
    "with open('results/earthquake.html', 'r') as f:\n",
    "    contents = f.read()\n",
    "    contents = contents.replace(\"http://cdn.leafletjs.com/leaflet-0.5/\", \"//cdnjs.cloudflare.com/ajax/libs/leaflet/0.7.7/\")\n",
    "    with open('results/earthquake2.html', 'w') as f:\n",
    "        f.writelines(contents)"
   ]
  },
  {
   "cell_type": "code",
   "execution_count": null,
   "metadata": {
    "collapsed": true
   },
   "outputs": [],
   "source": [
    "%%HTML\n",
    "<iframe width=\"100%\" height=\"350\" src=\"https://app.dominodatalab.com/r00sj3/jupyter/raw/latest/results/earthquake2.html?inline=true\"></iframe>"
   ]
  },
  {
   "cell_type": "markdown",
   "metadata": {},
   "source": [
    "## Sources\n",
    "* [Advanced Jupyter Notebook Tricks — Part I](https://blog.dominodatalab.com/lesser-known-ways-of-using-notebooks/)\n",
    "* [Building Interactive Dashboards with Jupyter](https://blog.dominodatalab.com/interactive-dashboards-in-jupyter/)\n",
    "* [Creating interactive crime maps with Folium](https://blog.dominodatalab.com/creating-interactive-crime-maps-with-folium/)"
   ]
  },
  {
   "cell_type": "code",
   "execution_count": null,
   "metadata": {
    "collapsed": true
   },
   "outputs": [],
   "source": []
  }
 ],
 "metadata": {
  "kernelspec": {
   "display_name": "Python 3",
   "language": "python",
   "name": "python3"
  },
  "language_info": {
   "codemirror_mode": {
    "name": "ipython",
    "version": 3
   },
   "file_extension": ".py",
   "mimetype": "text/x-python",
   "name": "python",
   "nbconvert_exporter": "python",
   "pygments_lexer": "ipython3",
   "version": "3.5.3"
  }
 },
 "nbformat": 4,
 "nbformat_minor": 2
}
