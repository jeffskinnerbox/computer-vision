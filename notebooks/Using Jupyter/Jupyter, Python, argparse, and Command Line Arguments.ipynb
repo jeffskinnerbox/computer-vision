{
 "cells": [
  {
   "cell_type": "markdown",
   "metadata": {},
   "source": [
    "I want to take a Python script, orginally created to run on the commandline, and put in Jupyter.\n",
    "How do you pass this script arguments?\n",
    "The example below show you how."
   ]
  },
  {
   "cell_type": "code",
   "execution_count": 1,
   "metadata": {},
   "outputs": [
    {
     "name": "stdout",
     "output_type": "stream",
     "text": [
      "Total number of shapes =  17\n"
     ]
    }
   ],
   "source": [
    "#!/usr/bin/python3\n",
    "'''\n",
    "DESCRIPTION\n",
    "    This script counts shapes within an input image, outlines the shapes with a red line,\n",
    "    annotates the image with the number of shapes found, and then writes the image to disk.\n",
    "\n",
    "USAGE\n",
    "    python shape_counter.py -i random-shapes.png -o output.png\n",
    "'''\n",
    "\n",
    "\n",
    "# import the necessary packages\n",
    "import sys\n",
    "import cv2\n",
    "import imutils\n",
    "import argparse\n",
    "\n",
    "\n",
    "# create the command line since your within Jupyter\n",
    "sys.argv = [\"./shape_counter.py\",\n",
    "            \"-i\", \"/home/jeff/src/Jupyter-Notebooks/DataSets/Images/random-shapes-1.png\",\n",
    "            \"-o\", \"/home/jeff/tmp/output.png\"]\n",
    "\n",
    "\n",
    "def count_shapes(image):\n",
    "    # convert the image to grayscale, blur it, and threshold it\n",
    "    gray = cv2.cvtColor(image, cv2.COLOR_BGR2GRAY)\n",
    "    blurred = cv2.GaussianBlur(gray, (5, 5), 0)\n",
    "    thresh = cv2.threshold(blurred, 60, 255, cv2.THRESH_BINARY)[1]\n",
    "\n",
    "    # extract contours from the image\n",
    "    cnts = cv2.findContours(thresh.copy(), cv2.RETR_EXTERNAL,\n",
    "                            cv2.CHAIN_APPROX_SIMPLE)\n",
    "    cnts = cnts[0] if imutils.is_cv2() else cnts[1]\n",
    "\n",
    "    # loop over the contours and draw them on the input image\n",
    "    for c in cnts:\n",
    "        cv2.drawContours(image, [c], -1, (0, 0, 255), 2)\n",
    "\n",
    "    # display the total number of shapes on the image\n",
    "    text = \"Total number of shapes = {}\".format(len(cnts))\n",
    "    cv2.putText(image, text, (10, 20), cv2.FONT_HERSHEY_SIMPLEX,\n",
    "                0.5, (0, 0, 255), 2)\n",
    "\n",
    "    return len(cnts), image\n",
    "\n",
    "\n",
    "def LineArgumentParser():\n",
    "    # construct the argument parser and parse the arguments\n",
    "    ap = argparse.ArgumentParser(description=__doc__)\n",
    "    ap.add_argument(\"-i\", \"--input\", required=True,\n",
    "                    help=\"name of input image file\")\n",
    "    ap.add_argument(\"-o\", \"--output\", required=True,\n",
    "                    help=\"name of output image file\")\n",
    "    ap.add_argument(\"-I\", \"--input_path\", required=False,\n",
    "                    default=\"\",\n",
    "                    help=\"path to input image\")\n",
    "    ap.add_argument(\"-O\", \"--output_path\", required=False,\n",
    "                    default=\"\",\n",
    "                    help=\"path to output image\")\n",
    "    return vars(ap.parse_args())\n",
    "\n",
    "\n",
    "if __name__ == \"__main__\":\n",
    "    # parse the line arguments\n",
    "    args = LineArgumentParser()\n",
    "\n",
    "    # load the input image from disk\n",
    "    in_image = cv2.imread(args[\"input_path\"] + args[\"input\"])\n",
    "\n",
    "    # pass the image to the shape counter\n",
    "    count, out_image = count_shapes(in_image)\n",
    "\n",
    "    print(\"Total number of shapes = \", count)\n",
    "\n",
    "    # write the output image to disk\n",
    "    cv2.imwrite(args[\"output_path\"] + args[\"output\"], out_image)"
   ]
  },
  {
   "cell_type": "markdown",
   "metadata": {},
   "source": [
    "parsing tuple with strings"
   ]
  },
  {
   "cell_type": "code",
   "execution_count": 2,
   "metadata": {},
   "outputs": [
    {
     "name": "stdout",
     "output_type": "stream",
     "text": [
      "Namespace(file=[['file1', 'string1', 'string2'], ['file2', 'string3', 'string4'], ['file3', 'string5', 'string6']]) \n",
      "\n",
      "[['file1', 'string1', 'string2'], ['file2', 'string3', 'string4'], ['file3', 'string5', 'string6']] \n",
      "\n",
      "('file1', 'string1', 'string2')\n",
      "('file2', 'string3', 'string4')\n",
      "('file3', 'string5', 'string6')\n"
     ]
    }
   ],
   "source": [
    "import argparse\n",
    "\n",
    "parser= argparse.ArgumentParser()\n",
    "parser.add_argument ('-f', '--file', nargs=3, action='append')\n",
    "\n",
    "cmline = '-f file1 string1 string2 -f file2 string3 string4 -f file3 string5 string6'\n",
    "args = parser.parse_args(cmline.split())\n",
    "out = parser.parse_args(cmline.split()).file\n",
    "\n",
    "print(args, '\\n')\n",
    "print(out, '\\n')\n",
    "\n",
    "for f in out:\n",
    "    print(tuple(f))"
   ]
  },
  {
   "cell_type": "markdown",
   "metadata": {},
   "source": [
    "parsing tuple with integers"
   ]
  },
  {
   "cell_type": "code",
   "execution_count": 3,
   "metadata": {},
   "outputs": [
    {
     "name": "stdout",
     "output_type": "stream",
     "text": [
      "Namespace(resolution=[[300, 500]]) \n",
      "\n"
     ]
    },
    {
     "ename": "TypeError",
     "evalue": "'Namespace' object is not iterable",
     "output_type": "error",
     "traceback": [
      "\u001b[0;31m---------------------------------------------------------------------------\u001b[0m",
      "\u001b[0;31mTypeError\u001b[0m                                 Traceback (most recent call last)",
      "\u001b[0;32m<ipython-input-3-21b43609cfab>\u001b[0m in \u001b[0;36m<module>\u001b[0;34m()\u001b[0m\n\u001b[1;32m      9\u001b[0m \u001b[0mprint\u001b[0m\u001b[0;34m(\u001b[0m\u001b[0margs\u001b[0m\u001b[0;34m,\u001b[0m \u001b[0;34m'\\n'\u001b[0m\u001b[0;34m)\u001b[0m\u001b[0;34m\u001b[0m\u001b[0m\n\u001b[1;32m     10\u001b[0m \u001b[0;34m\u001b[0m\u001b[0m\n\u001b[0;32m---> 11\u001b[0;31m \u001b[0;32mfor\u001b[0m \u001b[0mr\u001b[0m \u001b[0;32min\u001b[0m \u001b[0margs\u001b[0m\u001b[0;34m:\u001b[0m\u001b[0;34m\u001b[0m\u001b[0m\n\u001b[0m\u001b[1;32m     12\u001b[0m     \u001b[0mprint\u001b[0m\u001b[0;34m(\u001b[0m\u001b[0mtuple\u001b[0m\u001b[0;34m(\u001b[0m\u001b[0mr\u001b[0m\u001b[0;34m)\u001b[0m\u001b[0;34m)\u001b[0m\u001b[0;34m\u001b[0m\u001b[0m\n",
      "\u001b[0;31mTypeError\u001b[0m: 'Namespace' object is not iterable"
     ]
    }
   ],
   "source": [
    "import argparse\n",
    "\n",
    "parser = argparse.ArgumentParser()\n",
    "parser.add_argument ('-r', '--resolution', nargs=2, type=int, action='append')\n",
    "\n",
    "cmline = '-r 300 500'\n",
    "args = parser.parse_args(cmline.split())\n",
    "\n",
    "print(args, '\\n')\n",
    "\n",
    "for r in args:\n",
    "    print(tuple(r))"
   ]
  },
  {
   "cell_type": "markdown",
   "metadata": {},
   "source": [
    "define your own type\n",
    "\n",
    "see https://stackoverflow.com/questions/9978880/python-argument-parser-list-of-list-or-tuple-of-tuples"
   ]
  },
  {
   "cell_type": "code",
   "execution_count": 4,
   "metadata": {},
   "outputs": [
    {
     "name": "stderr",
     "output_type": "stream",
     "text": [
      "usage: ipykernel_launcher.py [-h] [--cord CORD CORD CORD]\n",
      "ipykernel_launcher.py: error: unrecognized arguments: program -r 300,500,700\n"
     ]
    },
    {
     "ename": "SystemExit",
     "evalue": "2",
     "output_type": "error",
     "traceback": [
      "An exception has occurred, use %tb to see the full traceback.\n",
      "\u001b[0;31mSystemExit\u001b[0m\u001b[0;31m:\u001b[0m 2\n"
     ]
    },
    {
     "name": "stderr",
     "output_type": "stream",
     "text": [
      "/usr/local/lib/python3.6/dist-packages/IPython/core/interactiveshell.py:2918: UserWarning: To exit: use 'exit', 'quit', or Ctrl-D.\n",
      "  warn(\"To exit: use 'exit', 'quit', or Ctrl-D.\", stacklevel=1)\n"
     ]
    }
   ],
   "source": [
    "import argparse\n",
    "\n",
    "def coords(s):\n",
    "    try:\n",
    "        x, y, z = map(int, s.split(','))\n",
    "        return x, y, z\n",
    "    except:\n",
    "        raise argparse.ArgumentTypeError(\"Coordinates must be x,y,z\")\n",
    "\n",
    "        \n",
    "parser= argparse.ArgumentParser()\n",
    "parser.add_argument('--cord', help=\"Coordinate\", dest=\"cord\", type=coords, nargs=3)\n",
    "\n",
    "cmline = 'program -r 300,500,700'\n",
    "args = parser.parse_args(cmline.split())\n",
    "\n",
    "print(args, '\\n')"
   ]
  },
  {
   "cell_type": "code",
   "execution_count": 5,
   "metadata": {},
   "outputs": [
    {
     "name": "stdout",
     "output_type": "stream",
     "text": [
      "(100, 200)\n"
     ]
    }
   ],
   "source": [
    "x = 100\n",
    "y = 200\n",
    "print(tuple([x, y]))"
   ]
  },
  {
   "cell_type": "code",
   "execution_count": 6,
   "metadata": {},
   "outputs": [
    {
     "name": "stdout",
     "output_type": "stream",
     "text": [
      "2\n"
     ]
    }
   ],
   "source": [
    "x = [1, 2, 3, 4]\n",
    "print(x[1])"
   ]
  }
 ],
 "metadata": {
  "kernelspec": {
   "display_name": "Python 3",
   "language": "python",
   "name": "python3"
  },
  "language_info": {
   "codemirror_mode": {
    "name": "ipython",
    "version": 3
   },
   "file_extension": ".py",
   "mimetype": "text/x-python",
   "name": "python",
   "nbconvert_exporter": "python",
   "pygments_lexer": "ipython3",
   "version": "3.6.3"
  }
 },
 "nbformat": 4,
 "nbformat_minor": 2
}
