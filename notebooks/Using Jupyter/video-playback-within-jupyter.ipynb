{
 "cells": [
  {
   "cell_type": "markdown",
   "metadata": {},
   "source": [
    "# Video Playback Within Jupyter\n",
    "Something that took me awhile to grasp was that OpenCV is purely a image/video processor.\n",
    "As a result, it doesn't see much need in providing video playback capabilities.\n",
    "\n",
    "In OpenCV, a video can be read either by using the feed from a camera connected to a computer\n",
    "or by reading a video file.\n",
    "The first step towards reading a video file is to create a `VideoCapture` object.\n",
    "Its argument can be either the device index or the name of the video file to be read.\n",
    "\n",
    "After reading a video file,\n",
    "we can display the video frame by frame.\n",
    "A frame of a video is simply an image and we display each frame the same way we display images,\n",
    "using the function `imshow()`.\n",
    "\n",
    "The first thing to note is that `imshow()` is not anything like your meda player.\n",
    "`imshow()` will simply display each frame as fast as it can.\n",
    "There is no assuring the video is displayed at the rate it was recorded, no audio,\n",
    "none of the things we are accustum to from your standard media player. \n",
    "\n",
    "While reading the video frames from a webcam or file,\n",
    "you can using `waitKey()` to limit the frame rate for such things as video from files.\n",
    "For a webcam, it will limit its frame rate, so you can't exceed that,\n",
    "but `waitKey()` could be used to slow it down.\n",
    "\n",
    ">**NOTE:** While reading frames from a video that you are processing,\n",
    "it may still be appropriate to set the time delay to 1 ms (i.e. `waitKey(1)`)\n",
    "so that the thread is freed up to do the processing we want to do."
   ]
  },
  {
   "cell_type": "markdown",
   "metadata": {},
   "source": [
    "---\n",
    "## 1. Using Markdown Cell\n",
    "Use a markdown cell"
   ]
  },
  {
   "cell_type": "markdown",
   "metadata": {},
   "source": [
    "<video controls src=\"videos/All-is-Full-of-Love-by-Bjork.mp4\" />"
   ]
  },
  {
   "cell_type": "markdown",
   "metadata": {},
   "source": [
    "---\n",
    "## 2. Play as HTML5 Video\n",
    "Play it as an HTML5 video"
   ]
  },
  {
   "cell_type": "code",
   "execution_count": 4,
   "metadata": {},
   "outputs": [
    {
     "data": {
      "text/html": [
       "<video width=\"320\" height=\"240\" controls>\n",
       "  <source src=\"videos/Person-Walking-Shot-Angle.mp4\" type=\"video/mp4\">"
      ],
      "text/plain": [
       "<IPython.core.display.HTML object>"
      ]
     },
     "metadata": {},
     "output_type": "display_data"
    }
   ],
   "source": [
    "%%HTML\n",
    "<video width=\"320\" height=\"240\" controls>\n",
    "  <source src=\"videos/Person-Walking-Shot-Angle.mp4\" type=\"video/mp4\">"
   ]
  },
  {
   "cell_type": "markdown",
   "metadata": {},
   "source": [
    "---\n",
    "## Embedded V\n",
    "You can add YouTube videos to Jupyter by using the `iframe` or `object`\n",
    "[HTML tag](http://www.simplehtmlguide.com/whatishtml.php).\n",
    "\n",
    "1. Go to the youtube site to find the video you want.\n",
    "1. Click the 'Share' button below the video.\n",
    "1. Click the 'Embed' button next to the link they show you.\n",
    "1. Copy the `iframe` code given and paste it into a HTML statement within Jupyter.\n",
    "\n",
    "You use a similar procedure for Vimeo\n",
    "\n",
    "1. Within the video on the right hand side, click on the rounded icon with a paper airplane.\n",
    "1. A dialog box appears with share and embedding options. At the bottom right, click Show options.\n",
    "1. The panel enlarges after clicking on the link.  Scroll down and copy the 'Enbed' section and paste it into a HTML statement with Jupyter. "
   ]
  },
  {
   "cell_type": "markdown",
   "metadata": {},
   "source": [
    "**YouTube Example Using IFrame**"
   ]
  },
  {
   "cell_type": "code",
   "execution_count": null,
   "metadata": {
    "collapsed": true
   },
   "outputs": [],
   "source": [
    "from IPython.display import HTML\n",
    "\n",
    "# Youtube\n",
    "HTML('<iframe width=\"560\" height=\"315\" src=\"https://www.youtube.com/embed/mN0zPOpADL4\" frameborder=\"0\" allowfullscreen></iframe>')"
   ]
  },
  {
   "cell_type": "markdown",
   "metadata": {},
   "source": [
    "**YouTube Example Using Object**"
   ]
  },
  {
   "cell_type": "code",
   "execution_count": null,
   "metadata": {
    "collapsed": true
   },
   "outputs": [],
   "source": [
    "from IPython.display import HTML\n",
    "\n",
    "# Youtube\n",
    "HTML('<object data=\"http://www.youtube.com/embed/W7qWa52k-nE\" width=\"560\" height=\"315\"></object>')"
   ]
  },
  {
   "cell_type": "markdown",
   "metadata": {},
   "source": [
    "**Vimeo Example Using IFrame**"
   ]
  },
  {
   "cell_type": "code",
   "execution_count": null,
   "metadata": {
    "collapsed": true,
    "scrolled": true
   },
   "outputs": [],
   "source": [
    "from IPython.display import HTML\n",
    "\n",
    "# Vimeo\n",
    "HTML('<iframe src=\"https://player.vimeo.com/video/50718916?color=ffffff&title=0&byline=0&portrait=0\" width=\"640\" height=\"360\" frameborder=\"0\" webkitallowfullscreen mozallowfullscreen allowfullscreen></iframe><p><a href=\"https://vimeo.com/50718916\">The Lego Story</a> from <a href=\"https://vimeo.com/user5867016\">Bob Richter</a> on <a href=\"https://vimeo.com\">Vimeo</a>.</p>')"
   ]
  },
  {
   "cell_type": "markdown",
   "metadata": {},
   "source": [
    "---\n",
    "## Calculating Frame Rate of Video File\n",
    "This code reads in a given video from file,\n",
    "determines the total number of frames as well as the frame rate,\n",
    "and uses these parameters to display each extracted frame on the screen for the appropriate length of time."
   ]
  },
  {
   "cell_type": "code",
   "execution_count": null,
   "metadata": {
    "collapsed": true
   },
   "outputs": [],
   "source": [
    "import cv2\n",
    " \n",
    "video = cv2.VideoCapture(\"videos/All-is-Full-of-Love-by-Bjork.mp4\");\n",
    "     \n",
    "# Find OpenCV version\n",
    "(major_ver, minor_ver, subminor_ver) = (cv2.__version__).split('.')\n",
    "     \n",
    "if int(major_ver)  < 3 :\n",
    "    fps = video.get(cv2.cv.CV_CAP_PROP_FPS)\n",
    "    print(\"Frames per second using video.get(cv2.cv.CV_CAP_PROP_FPS): {0}\".format(fps))\n",
    "else :\n",
    "    fps = video.get(cv2.CAP_PROP_FPS)\n",
    "    print(\"Frames per second using video.get(cv2.CAP_PROP_FPS) : {0}\".format(fps))\n",
    "     \n",
    "video.release(); "
   ]
  },
  {
   "cell_type": "markdown",
   "metadata": {},
   "source": [
    "## Calculating Frame Rate of a Camera\n",
    "In OpenCV, finding the frame rate of a connected camera/webcam is not straight forward.\n",
    "The documentation says that `get(CAP_PROP_FPS)` or `get(CV_CAP_PROP_FPS)` gives the frames per second.\n",
    "Now that is true for video files, but not for webcams.\n",
    "For webcams and many other connected cameras,\n",
    "you have to calculate the frames per second manually.\n",
    "You can read a certain number of frames from the video\n",
    "and see how much time has elapsed to calculate frames per second."
   ]
  },
  {
   "cell_type": "code",
   "execution_count": null,
   "metadata": {
    "collapsed": true
   },
   "outputs": [],
   "source": [
    "import cv2\n",
    "import time\n",
    " \n",
    "# Start default camera\n",
    "video = cv2.VideoCapture(0);\n",
    "     \n",
    "# Find OpenCV version\n",
    "(major_ver, minor_ver, subminor_ver) = (cv2.__version__).split('.')\n",
    "     \n",
    "# With webcam get(CV_CAP_PROP_FPS) does not work. Let's see for ourselves.\n",
    "if int(major_ver)  < 3 :\n",
    "    fps = video.get(cv2.cv.CV_CAP_PROP_FPS)\n",
    "    print(\"Frames per second using video.get(cv2.cv.CV_CAP_PROP_FPS): {0}\".format(fps))\n",
    "else :\n",
    "    fps = video.get(cv2.CAP_PROP_FPS)\n",
    "    print(\"Frames per second using video.get(cv2.CAP_PROP_FPS) : {0}\".format(fps))\n",
    "     \n",
    "# Number of frames to capture\n",
    "num_frames = 120;\n",
    "     \n",
    "print(\"Capturing {0} frames\".format(num_frames))\n",
    " \n",
    "# Start time\n",
    "start = time.time()\n",
    "     \n",
    "# Grab a few frames\n",
    "for i in range(0, num_frames) :\n",
    "    ret, frame = video.read()\n",
    "    print('.', end='')\n",
    "\n",
    "# End time\n",
    "end = time.time()\n",
    " \n",
    "# Time elapsed\n",
    "seconds = end - start\n",
    "print(\"Time taken : {0} seconds\".format(seconds))\n",
    " \n",
    "# Calculate frames per second\n",
    "fps  = num_frames / seconds;\n",
    "print(\"Estimated frames per second : {0}\".format(fps))\n",
    " \n",
    "# Release video\n",
    "video.release()"
   ]
  },
  {
   "cell_type": "markdown",
   "metadata": {},
   "source": [
    "---\n",
    "## Method 1\n",
    "To capture video, you need to create a VideoCapture object.\n",
    "Its argument can be either the device index or the name of a video file.\n",
    "Device index is just the number to specify which camera.\n",
    "Normally one camera will be connected (as in my case).\n",
    "So I simply pass 0 (or -1).\n",
    "You can select the second camera by passing 1 and so on.\n",
    "After that, you can capture frame-by-frame.\n",
    "Don’t forget to release the capture,\n",
    "in my case by entering the 'q' on the keyboard."
   ]
  },
  {
   "cell_type": "code",
   "execution_count": null,
   "metadata": {
    "collapsed": true
   },
   "outputs": [],
   "source": [
    "import cv2\n",
    "import time\n",
    "import numpy as np\n",
    "from imutils.video import FPS\n",
    "\n",
    "# Create a VideoCapture object, start the timer, and read from input file\n",
    "# If the input is the camera, pass 0 instead of the video file name\n",
    "print(\"[INFO] starting video file...\")\n",
    "cap = cv2.VideoCapture('videos/All-is-Full-of-Love-by-Bjork.mp4')\n",
    "fps = FPS().start()\n",
    "\n",
    "# Check if camera opened successfully\n",
    "if (cap.isOpened() == False): \n",
    "    print(\"Error opening video stream or file\")\n",
    "    \n",
    "# Read until video is completed\n",
    "while(cap.isOpened()):\n",
    "    # Capture frame-by-frameq\n",
    "    ret, frame = cap.read()\n",
    "    if ret == True:\n",
    "        # Display the resulting frame\n",
    "        cv2.imshow('Frame',frame)\n",
    "        fps.update()\n",
    "        \n",
    "        # Press Q on keyboard to  exit\n",
    "        if cv2.waitKey(1) & 0xFF == ord('q'):\n",
    "            break\n",
    " \n",
    "    # Break the loop\n",
    "    else: \n",
    "        break\n",
    "\n",
    "# stop the timer and display information\n",
    "fps.stop()\n",
    "print(\"[INFO] elasped time: {:.2f}\".format(fps.elapsed()))\n",
    "print(\"[INFO] approx. FPS: {:.2f}\".format(fps.fps()))\n",
    "\n",
    "# When everything done, release the video capture object\n",
    "cap.release()\n",
    "\n",
    "cv2.waitKey(0)                 # waits forever for user to press any key\n",
    "cv2.destroyAllWindows()        # closes displayed windows"
   ]
  },
  {
   "cell_type": "markdown",
   "metadata": {},
   "source": [
    "* `cv2.waitKey(1)` gives you approxamately 349 FPS and time of 18 seconds\n",
    "* `cv2.waitKey(25)` gives you approxamately 37.5 FPS and time of 167 seconds"
   ]
  },
  {
   "cell_type": "markdown",
   "metadata": {},
   "source": [
    "---\n",
    "## Method 5\n",
    "Using Matplotlib to show the image"
   ]
  },
  {
   "cell_type": "code",
   "execution_count": null,
   "metadata": {
    "collapsed": true
   },
   "outputs": [],
   "source": [
    "%matplotlib inline\n",
    "\n",
    "import cv2\n",
    "import matplotlib.pyplot as plt\n",
    "from IPython import display\n",
    "\n",
    "vc = cv2.VideoCapture(\"videos/All-is-Full-of-Love-by-Bjork.mp4\")\n",
    "\n",
    "if vc.isOpened(): # try to get the first frame\n",
    "    is_capturing, frame = vc.read()\n",
    "    frame = cv2.cvtColor(frame, cv2.COLOR_BGR2RGB)    # makes the blues image look real colored\n",
    "    webcam_preview = plt.imshow(frame)    \n",
    "else:\n",
    "    is_capturing = False\n",
    "\n",
    "while is_capturing:\n",
    "    try:    # Lookout for a keyboardInterrupt to stop the script\n",
    "        is_capturing, frame = vc.read()\n",
    "        frame = cv2.cvtColor(frame, cv2.COLOR_BGR2RGB)    # makes the blues image look real colored\n",
    "        webcam_preview.set_data(frame)\n",
    "        plt.draw()\n",
    "\n",
    "        display.clear_output(wait=True)\n",
    "        display.display(plt.gcf())\n",
    "  \n",
    "        plt.pause(0.001)    # the pause time is = 1 / framerate\n",
    "    except KeyboardInterrupt:\n",
    "        vc.release()"
   ]
  },
  {
   "cell_type": "markdown",
   "metadata": {},
   "source": [
    "---\n",
    "## Method 6"
   ]
  },
  {
   "cell_type": "code",
   "execution_count": null,
   "metadata": {
    "collapsed": true
   },
   "outputs": [],
   "source": [
    "# Import the required modules\n",
    "%pylab inline\n",
    "%matplotlib inline\n",
    "import cv2\n",
    "from IPython.display import clear_output\n",
    "\n",
    "# Grab the input device, in this case the webcam\n",
    "# You can also give path to the video file\n",
    "vid = cv2.VideoCapture(\"videos/People-Walking-Shot-From-Above.mp4\")\n",
    "\n",
    "# Put the code in try-except statements\n",
    "# Catch the keyboard exception and release the camera device and continue with the rest of code.\n",
    "try:\n",
    "    while(True):\n",
    "        # Capture frame-by-frame\n",
    "        ret, frame = vid.read()\n",
    "        if not ret:\n",
    "            # Release the Video Device if ret is false\n",
    "            vid.release()\n",
    "            # Message to be displayed after releasing the device\n",
    "            print(\"Released Video Resource\")\n",
    "            break\n",
    "        \n",
    "        # Convert the image from OpenCV BGR format to matplotlib RGB format\n",
    "        # to display the image\n",
    "        frame = cv2.cvtColor(frame, cv2.COLOR_BGR2RGB)\n",
    "        \n",
    "        # Turn off the axis\n",
    "        axis('off')\n",
    "        \n",
    "        # Title of the window\n",
    "        title(\"Input Stream\")\n",
    "        \n",
    "        # Display the frame\n",
    "        imshow(frame)\n",
    "        show()\n",
    "        \n",
    "        # Display the frame until new frame is available\n",
    "        clear_output(wait=True)\n",
    "\n",
    "except KeyboardInterrupt:   \n",
    "    # Release the Video Device\n",
    "    vid.release()\n",
    "    \n",
    "    # Message to be displayed after releasing the device\n",
    "    print(\"Released Video Resource\")"
   ]
  },
  {
   "cell_type": "markdown",
   "metadata": {},
   "source": [
    "# Streaming Video From The Web\n",
    "Take live video feeds from these sources and display them in Jupyter\n",
    "* [RailServe.com](https://www.railserve.com/aar_railroad_reporting_marks.html)\n",
    "* [The Chesterton, Indiana cameras are located at MP CD 481.2 NS Chicago Line - Dearborn Division](http://www.railstream.net/live-cameras/item/chesterton-in-west-free)"
   ]
  },
  {
   "cell_type": "markdown",
   "metadata": {},
   "source": [
    "## Sources\n",
    "* [Read, Write and Display a video using OpenCV ( C++/ Python)](https://www.learnopencv.com/read-write-and-display-a-video-using-opencv-cpp-python/)\n",
    "* [How can I play a local video in my IPython notebook?](https://stackoverflow.com/questions/18019477/how-can-i-play-a-local-video-in-my-ipython-notebook)\n",
    "* [Embedding Video in Jupyter Notebooks](http://christopherlovell.co.uk/blog/2016/05/10/jupyter-video.html)\n",
    "* [Webcam based image processing in iPython notebooks](https://medium.com/@neotheicebird/webcam-based-image-processing-in-ipython-notebooks-47c75a022514)\n",
    "* [Displaying Video in IPython Notebook](https://github.com/bikz05/ipython-notebooks/blob/master/computer-vision/displaying-video-in-ipython-notebook.ipynb)\n",
    "* [How to find frame rate or frames per second (fps) in OpenCV (Python/C++)?](https://www.learnopencv.com/how-to-find-frame-rate-or-frames-per-second-fps-in-opencv-python-cpp/)"
   ]
  }
 ],
 "metadata": {
  "kernelspec": {
   "display_name": "Python 3",
   "language": "python",
   "name": "python3"
  },
  "language_info": {
   "codemirror_mode": {
    "name": "ipython",
    "version": 3
   },
   "file_extension": ".py",
   "mimetype": "text/x-python",
   "name": "python",
   "nbconvert_exporter": "python",
   "pygments_lexer": "ipython3",
   "version": "3.5.3"
  }
 },
 "nbformat": 4,
 "nbformat_minor": 2
}
