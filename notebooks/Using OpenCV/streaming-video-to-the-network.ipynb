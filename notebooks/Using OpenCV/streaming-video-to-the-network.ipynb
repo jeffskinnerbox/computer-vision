{
 "cells": [
  {
   "cell_type": "markdown",
   "metadata": {},
   "source": [
    "# Streaming a Video to the Network"
   ]
  },
  {
   "cell_type": "markdown",
   "metadata": {},
   "source": [
    "Server side script which will simply read the video stream and pipe it to a media player for display."
   ]
  },
  {
   "cell_type": "code",
   "execution_count": null,
   "metadata": {
    "collapsed": true
   },
   "outputs": [],
   "source": [
    "import socket\n",
    "import subprocess\n",
    "\n",
    "# Start a socket listening for connections on 0.0.0.0:8000 (0.0.0.0 means\n",
    "# all interfaces)\n",
    "server_socket = socket.socket()\n",
    "server_socket.bind(('0.0.0.0', 8000))\n",
    "server_socket.listen(0)\n",
    "\n",
    "# Accept a single connection and make a file-like object out of it\n",
    "connection = server_socket.accept()[0].makefile('rb')\n",
    "try:\n",
    "    # Run a viewer with an appropriate command line. Uncomment the mplayer\n",
    "    # version if you would prefer to use mplayer instead of VLC\n",
    "    #cmdline = ['vlc', '--demux', 'h264', '-']\n",
    "    cmdline = ['mplayer', '-fps', '25', '-cache', '1024', '-']\n",
    "    player = subprocess.Popen(cmdline, stdin=subprocess.PIPE)\n",
    "    while True:\n",
    "        # Repeatedly read 1k of data from the connection and write it to\n",
    "        # the media player's stdin\n",
    "        data = connection.read(1024)\n",
    "        if not data:\n",
    "            break\n",
    "        player.stdin.write(data)\n",
    "finally:\n",
    "    connection.close()\n",
    "    server_socket.close()\n",
    "    player.terminate()"
   ]
  },
  {
   "cell_type": "markdown",
   "metadata": {},
   "source": [
    "Client side script which simply starts a recording over a file-like object created from the network socket."
   ]
  },
  {
   "cell_type": "code",
   "execution_count": null,
   "metadata": {
    "collapsed": true
   },
   "outputs": [],
   "source": [
    "import socket\n",
    "import time\n",
    "import picamera\n",
    "\n",
    "# Connect a client socket to my_server:8000 (change my_server to the\n",
    "# hostname of your server)\n",
    "client_socket = socket.socket()\n",
    "client_socket.connect(('my_server', 8000))\n",
    "\n",
    "# Make a file-like object out of the connection\n",
    "connection = client_socket.makefile('wb')\n",
    "try:\n",
    "    with picamera.PiCamera() as camera:\n",
    "        camera.resolution = (640, 480)\n",
    "        camera.framerate = 24\n",
    "        # Start a preview and let the camera warm up for 2 seconds\n",
    "        camera.start_preview()\n",
    "        time.sleep(2)\n",
    "        # Start recording, sending the output to the connection for 60\n",
    "        # seconds, then stop\n",
    "        camera.start_recording(connection, format='h264')\n",
    "        camera.wait_recording(60)\n",
    "        camera.stop_recording()\n",
    "finally:\n",
    "    connection.close()\n",
    "    client_socket.close()"
   ]
  },
  {
   "cell_type": "markdown",
   "metadata": {},
   "source": [
    "# Another Approach"
   ]
  },
  {
   "cell_type": "markdown",
   "metadata": {},
   "source": [
    "Server script (which relies on PIL for reading JPEGs, but you could replace this with any other suitable graphics library, e.g. OpenCV or GraphicsMagick)."
   ]
  },
  {
   "cell_type": "code",
   "execution_count": null,
   "metadata": {
    "collapsed": true
   },
   "outputs": [],
   "source": [
    "import io\n",
    "import socket\n",
    "import struct\n",
    "from PIL import Image\n",
    "\n",
    "# Start a socket listening for connections on 0.0.0.0:8000 (0.0.0.0 means\n",
    "# all interfaces)\n",
    "server_socket = socket.socket()\n",
    "server_socket.bind(('0.0.0.0', 8000))\n",
    "server_socket.listen(0)\n",
    "\n",
    "# Accept a single connection and make a file-like object out of it\n",
    "connection = server_socket.accept()[0].makefile('rb')\n",
    "try:\n",
    "    while True:\n",
    "        # Read the length of the image as a 32-bit unsigned int. If the\n",
    "        # length is zero, quit the loop\n",
    "        image_len = struct.unpack('<L', connection.read(struct.calcsize('<L')))[0]\n",
    "        if not image_len:\n",
    "            break\n",
    "        # Construct a stream to hold the image data and read the image\n",
    "        # data from the connection\n",
    "        image_stream = io.BytesIO()\n",
    "        image_stream.write(connection.read(image_len))\n",
    "        # Rewind the stream, open it as an image with PIL and do some\n",
    "        # processing on it\n",
    "        image_stream.seek(0)\n",
    "        image = Image.open(image_stream)\n",
    "        print('Image is %dx%d' % image.size)\n",
    "        image.verify()\n",
    "        print('Image is verified')\n",
    "finally:\n",
    "    connection.close()\n",
    "    server_socket.close()"
   ]
  },
  {
   "cell_type": "markdown",
   "metadata": {},
   "source": [
    "Now for the client side of things, on the Raspberry Pi."
   ]
  },
  {
   "cell_type": "code",
   "execution_count": null,
   "metadata": {
    "collapsed": true
   },
   "outputs": [],
   "source": [
    "import io\n",
    "import socket\n",
    "import struct\n",
    "import time\n",
    "import picamera\n",
    "\n",
    "# Connect a client socket to my_server:8000 (change my_server to the\n",
    "# hostname of your server)\n",
    "client_socket = socket.socket()\n",
    "client_socket.connect(('my_server', 8000))\n",
    "\n",
    "# Make a file-like object out of the connection\n",
    "connection = client_socket.makefile('wb')\n",
    "try:\n",
    "    camera = picamera.PiCamera()\n",
    "    camera.resolution = (640, 480)\n",
    "    # Start a preview and let the camera warm up for 2 seconds\n",
    "    camera.start_preview()\n",
    "    time.sleep(2)\n",
    "\n",
    "    # Note the start time and construct a stream to hold image data\n",
    "    # temporarily (we could write it directly to connection but in this\n",
    "    # case we want to find out the size of each capture first to keep\n",
    "    # our protocol simple)\n",
    "    start = time.time()\n",
    "    stream = io.BytesIO()\n",
    "    for foo in camera.capture_continuous(stream, 'jpeg'):\n",
    "        # Write the length of the capture to the stream and flush to\n",
    "        # ensure it actually gets sent\n",
    "        connection.write(struct.pack('<L', stream.tell()))\n",
    "        connection.flush()\n",
    "        # Rewind the stream and send the image data over the wire\n",
    "        stream.seek(0)\n",
    "        connection.write(stream.read())\n",
    "        # If we've been capturing for more than 30 seconds, quit\n",
    "        if time.time() - start > 30:\n",
    "            break\n",
    "        # Reset the stream for the next capture\n",
    "        stream.seek(0)\n",
    "        stream.truncate()\n",
    "    # Write a length of zero to the stream to signal we're done\n",
    "    connection.write(struct.pack('<L', 0))\n",
    "finally:\n",
    "    connection.close()\n",
    "    client_socket.close()"
   ]
  },
  {
   "cell_type": "markdown",
   "metadata": {},
   "source": [
    "* [Recording to a circular stream](http://picamera.readthedocs.io/en/release-1.13/recipes1.html)"
   ]
  },
  {
   "cell_type": "markdown",
   "metadata": {},
   "source": [
    "* [Web streaming](http://picamera.readthedocs.io/en/release-1.13/recipes2.html#web-streaming)"
   ]
  },
  {
   "cell_type": "code",
   "execution_count": null,
   "metadata": {
    "collapsed": true
   },
   "outputs": [],
   "source": [
    "import io\n",
    "import picamera\n",
    "import logging\n",
    "import socketserver\n",
    "from threading import Condition\n",
    "from http import server\n",
    "\n",
    "PAGE=\"\"\"\\\n",
    "<html>\n",
    "<head>\n",
    "<title>picamera MJPEG streaming demo</title>\n",
    "</head>\n",
    "<body>\n",
    "<h1>PiCamera MJPEG Streaming Demo</h1>\n",
    "<img src=\"stream.mjpg\" width=\"640\" height=\"480\" />\n",
    "</body>\n",
    "</html>\n",
    "\"\"\"\n",
    "\n",
    "class StreamingOutput(object):\n",
    "    def __init__(self):\n",
    "        self.frame = None\n",
    "        self.buffer = io.BytesIO()\n",
    "        self.condition = Condition()\n",
    "\n",
    "    def write(self, buf):\n",
    "        if buf.startswith(b'\\xff\\xd8'):\n",
    "            # New frame, copy the existing buffer's content and notify all\n",
    "            # clients it's available\n",
    "            self.buffer.truncate()\n",
    "            with self.condition:\n",
    "                self.frame = self.buffer.getvalue()\n",
    "                self.condition.notify_all()\n",
    "            self.buffer.seek(0)\n",
    "        return self.buffer.write(buf)\n",
    "\n",
    "class StreamingHandler(server.BaseHTTPRequestHandler):\n",
    "    def do_GET(self):\n",
    "        if self.path == '/':\n",
    "            self.send_response(301)\n",
    "            self.send_header('Location', '/index.html')\n",
    "            self.end_headers()\n",
    "        elif self.path == '/index.html':\n",
    "            content = PAGE.encode('utf-8')\n",
    "            self.send_response(200)\n",
    "            self.send_header('Content-Type', 'text/html')\n",
    "            self.send_header('Content-Length', len(content))\n",
    "            self.end_headers()\n",
    "            self.wfile.write(content)\n",
    "        elif self.path == '/stream.mjpg':\n",
    "            self.send_response(200)\n",
    "            self.send_header('Age', 0)\n",
    "            self.send_header('Cache-Control', 'no-cache, private')\n",
    "            self.send_header('Pragma', 'no-cache')\n",
    "            self.send_header('Content-Type', 'multipart/x-mixed-replace; boundary=FRAME')\n",
    "            self.end_headers()\n",
    "            try:\n",
    "                while True:\n",
    "                    with output.condition:\n",
    "                        output.condition.wait()\n",
    "                        frame = output.frame\n",
    "                    self.wfile.write(b'--FRAME\\r\\n')\n",
    "                    self.send_header('Content-Type', 'image/jpeg')\n",
    "                    self.send_header('Content-Length', len(frame))\n",
    "                    self.end_headers()\n",
    "                    self.wfile.write(frame)\n",
    "                    self.wfile.write(b'\\r\\n')\n",
    "            except Exception as e:\n",
    "                logging.warning(\n",
    "                    'Removed streaming client %s: %s',\n",
    "                    self.client_address, str(e))\n",
    "        else:\n",
    "            self.send_error(404)\n",
    "            self.end_headers()\n",
    "\n",
    "class StreamingServer(socketserver.ThreadingMixIn, server.HTTPServer):\n",
    "    allow_reuse_address = True\n",
    "    daemon_threads = True\n",
    "\n",
    "with picamera.PiCamera(resolution='640x480', framerate=24) as camera:\n",
    "    output = StreamingOutput()\n",
    "    camera.start_recording(output, format='mjpeg')\n",
    "    try:\n",
    "        address = ('', 8000)\n",
    "        server = StreamingServer(address, StreamingHandler)\n",
    "        server.serve_forever()\n",
    "    finally:\n",
    "        camera.stop_recording()"
   ]
  },
  {
   "cell_type": "markdown",
   "metadata": {},
   "source": [
    "Once the script is running, visit `http://your-pi-address:8000/` with your web-browser to view the video stream."
   ]
  },
  {
   "cell_type": "markdown",
   "metadata": {},
   "source": [
    "# Sources\n",
    "* [Recording to a network stream](http://picamera.readthedocs.io/en/release-1.10/recipes1.html#recording-to-a-network-stream)\n",
    "* [ Capturing to a network stream](http://picamera.readthedocs.io/en/release-1.13/recipes1.html#capturing-to-a-network-stream)"
   ]
  },
  {
   "cell_type": "code",
   "execution_count": null,
   "metadata": {
    "collapsed": true
   },
   "outputs": [],
   "source": []
  }
 ],
 "metadata": {
  "kernelspec": {
   "display_name": "Python 3",
   "language": "python",
   "name": "python3"
  },
  "language_info": {
   "codemirror_mode": {
    "name": "ipython",
    "version": 3
   },
   "file_extension": ".py",
   "mimetype": "text/x-python",
   "name": "python",
   "nbconvert_exporter": "python",
   "pygments_lexer": "ipython3",
   "version": "3.5.3"
  }
 },
 "nbformat": 4,
 "nbformat_minor": 2
}
