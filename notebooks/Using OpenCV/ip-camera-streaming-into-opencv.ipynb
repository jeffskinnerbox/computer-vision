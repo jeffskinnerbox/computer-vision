{
 "cells": [
  {
   "cell_type": "markdown",
   "metadata": {},
   "source": [
    "# IP Camera Streaming into OpenCV\n",
    "As getting vision from an IP camera into OpenCV is an unnecessarily tricky stumbling block,\n",
    "we’ll only concentrate on the code that streams vision from an IP camera to\n",
    "OpenCV which then simply displays that stream. "
   ]
  },
  {
   "cell_type": "code",
   "execution_count": null,
   "metadata": {},
   "outputs": [],
   "source": [
    "import numpy as np\n",
    "import cv2\n",
    "import time\n",
    "import requests\n",
    "import threading\n",
    "from threading import Thread, Event, ThreadError\n",
    "\n",
    "class Cam():\n",
    "\n",
    "  def __init__(self, url):\n",
    "    \n",
    "    self.stream = requests.get(url, stream=True)\n",
    "    self.thread_cancelled = False\n",
    "    self.thread = Thread(target=self.run)\n",
    "    print(\"camera initialised\")\n",
    "\n",
    "    \n",
    "  def start(self):\n",
    "    self.thread.start()\n",
    "    print(\"camera stream started\")\n",
    "    \n",
    "  def run(self):\n",
    "    bytes=''\n",
    "    while not self.thread_cancelled:\n",
    "      try:\n",
    "        bytes+=self.stream.raw.read(1024)\n",
    "        a = bytes.find('\\xff\\xd8')\n",
    "        b = bytes.find('\\xff\\xd9')\n",
    "        if a!=-1 and b!=-1:\n",
    "          jpg = bytes[a:b+2]\n",
    "          bytes= bytes[b+2:]\n",
    "          img = cv2.imdecode(np.fromstring(jpg, dtype=np.uint8),cv2.IMREAD_COLOR)\n",
    "          cv2.imshow('cam',img)\n",
    "          if cv2.waitKey(1) ==27:\n",
    "            exit(0)\n",
    "      except ThreadError:\n",
    "        self.thread_cancelled = True\n",
    "        \n",
    "        \n",
    "  def is_running(self):\n",
    "    return self.thread.isAlive()\n",
    "      \n",
    "    \n",
    "  def shut_down(self):\n",
    "    self.thread_cancelled = True\n",
    "    #block while waiting for thread to terminate\n",
    "    while self.thread.isAlive():\n",
    "      time.sleep(1)\n",
    "    return True\n",
    "\n",
    "  \n",
    "    \n",
    "if __name__ == \"__main__\":\n",
    "  url = 'http://192.168.2.1/?action=stream'\n",
    "  cam = Cam(url)\n",
    "  cam.start()"
   ]
  },
  {
   "cell_type": "markdown",
   "metadata": {},
   "source": [
    "## Sources\n",
    "* [OpenCV and IP camera streaming with Python](http://benhowell.github.io/guide/2015/03/09/opencv-and-web-cam-streaming)"
   ]
  }
 ],
 "metadata": {
  "kernelspec": {
   "display_name": "Python 3",
   "language": "python",
   "name": "python3"
  },
  "language_info": {
   "codemirror_mode": {
    "name": "ipython",
    "version": 3
   },
   "file_extension": ".py",
   "mimetype": "text/x-python",
   "name": "python",
   "nbconvert_exporter": "python",
   "pygments_lexer": "ipython3",
   "version": "3.6.3"
  }
 },
 "nbformat": 4,
 "nbformat_minor": 2
}
