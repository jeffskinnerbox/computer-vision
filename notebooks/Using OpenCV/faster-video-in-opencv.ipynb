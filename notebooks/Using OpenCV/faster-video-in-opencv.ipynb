{
 "cells": [
  {
   "cell_type": "markdown",
   "metadata": {},
   "source": [
    "# Faster Video in OpenCV\n",
    "**The fast is slow and the slow is fast .... read the comments on the blog.**\n",
    "\n",
    "I have you found that working with video file via OpenCV’s `cv2.VideoCapture` can be slow and sluggish.\n",
    "It seem like the `cv2.VideoCapture` and the associated `.read` method to poll another frame from your video file\n",
    "is taking far to long.\n",
    "The problem is likely the video compression and frame decoding.\n",
    "Depending on your video file type, the codecs you have installed, and the physical hardware of your machine,\n",
    "much of your video processing pipeline can actually be consumed by reading and decoding\n",
    "the next frame in the video file.\n",
    "\n",
    "The problem is that you’re both reading and decoding the frame in your main processing thread!\n",
    "The `.read`  method is a [blocking operation][01].\n",
    "That is, the main thread of your Python + OpenCV application is entirely blocked\n",
    "(i.e., stalled) until the frame is read from the video file, decoded, and returned to the calling function.\n",
    "By moving these blocking I/O operations to a separate thread and maintaining a queue of decoded frames,\n",
    "your can increase the frame processing rate.\n",
    "\n",
    "The code below show how this latency can be imporved by moving\n",
    "the reading and decoding of video file frames to an entirely separate thread of the program,\n",
    "freeing up our main thread to handle the actual image processing.\n",
    "[01]:https://en.wikipedia.org/wiki/Blocking_(computing)"
   ]
  },
  {
   "cell_type": "markdown",
   "metadata": {},
   "source": [
    "## The Slow, Naive Method\n",
    "This is the slower, **not recommend** method for processing the video.\n",
    "The goal of this section is to obtain a baseline on our video frame processing\n",
    "throughput rate using OpenCV and Python."
   ]
  },
  {
   "cell_type": "code",
   "execution_count": 1,
   "metadata": {},
   "outputs": [
    {
     "name": "stdout",
     "output_type": "stream",
     "text": [
      "[INFO] starting video file...\n",
      "[INFO] elasped time: 7.53\n",
      "[INFO] approx. FPS: 126.97\n"
     ]
    }
   ],
   "source": [
    "# import the necessary packages\n",
    "from imutils.video import FPS\n",
    "import numpy as np\n",
    "import imutils\n",
    "import cv2\n",
    "\n",
    "# open a pointer to the video stream and start the FPS timer\n",
    "print(\"[INFO] starting video file...\")\n",
    "stream = cv2.VideoCapture(\"videos/Jurassic-Park-Trailer-1993.mp4\")\n",
    "fps = FPS().start()\n",
    "\n",
    "# loop over frames from the video file stream\n",
    "while True:\n",
    "    # grab the frame from the threaded video file stream\n",
    "    (grabbed, frame) = stream.read()\n",
    "\n",
    "    # if the frame was not grabbed, then we have reached the end of the stream\n",
    "    if not grabbed:\n",
    "        break\n",
    "\n",
    "    # resize the frame and convert it to grayscale (while still retaining 3 channels)\n",
    "    frame = imutils.resize(frame, width=450)\n",
    "    frame = cv2.cvtColor(frame, cv2.COLOR_BGR2GRAY)\n",
    "    frame = np.dstack([frame, frame, frame])\n",
    "\n",
    "    # display a piece of text to the frame (so we can benchmark\n",
    "    # fairly against the fast method)\n",
    "    cv2.putText(frame, \"Slow Method\", (10, 30), cv2.FONT_HERSHEY_SIMPLEX, 0.6, (0, 255, 0), 2)    #noqa\n",
    "\n",
    "    # show the frame and update the FPS counter\n",
    "    cv2.imshow(\"Frame\", frame)\n",
    "    cv2.waitKey(1)\n",
    "    fps.update()\n",
    "\n",
    "# stop the timer and display FPS information\n",
    "fps.stop()\n",
    "print(\"[INFO] elasped time: {:.2f}\".format(fps.elapsed()))\n",
    "print(\"[INFO] approx. FPS: {:.2f}\".format(fps.fps()))\n",
    "\n",
    "# do a bit of cleanup\n",
    "stream.release()\n",
    "cv2.destroyAllWindows()"
   ]
  },
  {
   "cell_type": "markdown",
   "metadata": {},
   "source": [
    "* `cv2.waitKey(1)` gives you approxamately 127 FPS and time of 7.5 seconds\n",
    "* `cv2.waitKey(25)` gives you approxamately 32 FPS and time of 30 seconds"
   ]
  },
  {
   "cell_type": "markdown",
   "metadata": {},
   "source": [
    "## The Faster, Threading Method"
   ]
  },
  {
   "cell_type": "code",
   "execution_count": 10,
   "metadata": {},
   "outputs": [
    {
     "name": "stdout",
     "output_type": "stream",
     "text": [
      "[INFO] starting video file thread...\n",
      "[INFO] elasped time: 44.17\n",
      "[INFO] approx. FPS: 21.64\n"
     ]
    }
   ],
   "source": [
    "# import the necessary packages\n",
    "from imutils.video import FileVideoStream\n",
    "from imutils.video import FPS\n",
    "import numpy as np\n",
    "import imutils\n",
    "import time\n",
    "import cv2\n",
    "\n",
    "# start the file video stream thread and allow the buffer to start to fill\n",
    "print(\"[INFO] starting video file thread...\")\n",
    "fvs = FileVideoStream(\"videos/Jurassic-Park-Trailer-1993.mp4\").start()\n",
    "time.sleep(1.0)\n",
    "\n",
    "# start the FPS timer\n",
    "fps = FPS().start()\n",
    "\n",
    "# loop over frames from the video file stream\n",
    "while fvs.more():\n",
    "    # grab the frame from the threaded video file stream, resize\n",
    "    # it, and convert it to grayscale (while still retaining 3 channels)\n",
    "    frame = fvs.read()\n",
    "    frame = imutils.resize(frame, width=450)\n",
    "    frame = cv2.cvtColor(frame, cv2.COLOR_BGR2GRAY)\n",
    "    frame = np.dstack([frame, frame, frame])\n",
    "\n",
    "    # display the size of the queue on the frame\n",
    "    cv2.putText(frame, \"Fast Method - Queue Size: {}\".format(fvs.Q.qsize()), (10, 30), cv2.FONT_HERSHEY_SIMPLEX, 0.6, (0, 255, 0), 2)  #noqa\n",
    "\n",
    "    # show the frame and update the FPS counter\n",
    "    cv2.imshow(\"Frame\", frame)\n",
    "    cv2.waitKey(1)\n",
    "    fps.update()\n",
    "\n",
    "# stop the timer and display FPS information\n",
    "fps.stop()\n",
    "print(\"[INFO] elasped time: {:.2f}\".format(fps.elapsed()))\n",
    "print(\"[INFO] approx. FPS: {:.2f}\".format(fps.fps()))\n",
    "\n",
    "# do a bit of cleanup\n",
    "cv2.destroyAllWindows()\n",
    "fvs.stop()"
   ]
  },
  {
   "cell_type": "markdown",
   "metadata": {},
   "source": [
    "The `Jurassic-Park-Trailer-1993.mp4` video is 31 seconds long.\n",
    "But the processing of all the individual frames of the video clip takes approximately 45 seconds,\n",
    "and with a frame per second (FPS) processing rate of approximately 21.\n",
    "\n",
    "These results imply that it’s actually taking longer to read and decode the individual frames than the actual length of the video clip!"
   ]
  },
  {
   "cell_type": "markdown",
   "metadata": {},
   "source": [
    "* `cv2.waitKey(1)` gives you approxamately 22 FPS and time of 44 seconds"
   ]
  },
  {
   "cell_type": "markdown",
   "metadata": {},
   "source": [
    "## Sources\n",
    "* [Faster video file FPS with cv2.VideoCapture and OpenCV](http://www.pyimagesearch.com/2017/02/06/faster-video-file-fps-with-cv2-videocapture-and-opencv/)"
   ]
  }
 ],
 "metadata": {
  "kernelspec": {
   "display_name": "Python 3",
   "language": "python",
   "name": "python3"
  },
  "language_info": {
   "codemirror_mode": {
    "name": "ipython",
    "version": 3
   },
   "file_extension": ".py",
   "mimetype": "text/x-python",
   "name": "python",
   "nbconvert_exporter": "python",
   "pygments_lexer": "ipython3",
   "version": "3.6.3"
  }
 },
 "nbformat": 4,
 "nbformat_minor": 2
}
