{
 "cells": [
  {
   "cell_type": "markdown",
   "metadata": {},
   "source": [
    "# Object Tracking with OpenCV\n",
    "Simply put, locating an object in successive frames of a video is called tracking.\n",
    "The definition sounds straight forward but in computer vision and machine learning,\n",
    "tracking is a very broad term that encompasses conceptually similar but technically different ideas.\n",
    "\n",
    "OpenCV can do object detection very fast and you could easily detect the object in every frame.\n",
    "So, why do you need tracking in the first place?\n",
    "\n",
    "1. For one thing, usually tracking algorithms are faster than detection algorithms.\n",
    "1. Also, tracking can help when detection fails. If the object get’s obscured by an object, the object detector will most likely fail. A good tracking algorithm, on the other hand, will handle some level of occlusion.\n",
    "1. A tracker will preserves identity. The output of object detection is an array of rectangles that contain the object. However, there is no identity attached to the object.  While using detection on a frame we have no idea which rectangle corresponds to which object. On the other hand, tracking provides a way to literally connect the dots!\n",
    "\n",
    "OpenCV 3 comes with a new tracking API that contains implementations of many single object tracking algorithms. There are 6 different trackers available in OpenCV 3.2: BOOSTING, MIL, KCF, TLD, MEDIANFLOW, and GOTURN."
   ]
  },
  {
   "cell_type": "code",
   "execution_count": 1,
   "metadata": {},
   "outputs": [
    {
     "ename": "AttributeError",
     "evalue": "module 'cv2' has no attribute 'Tracker_create'",
     "output_type": "error",
     "traceback": [
      "\u001b[0;31m---------------------------------------------------------------------------\u001b[0m",
      "\u001b[0;31mAttributeError\u001b[0m                            Traceback (most recent call last)",
      "\u001b[0;32m<ipython-input-1-340acffba1d6>\u001b[0m in \u001b[0;36m<module>\u001b[0;34m()\u001b[0m\n\u001b[1;32m      4\u001b[0m \u001b[0;34m\u001b[0m\u001b[0m\n\u001b[1;32m      5\u001b[0m \u001b[0;31m# Set up tracker. Instead of MIL, you can also use BOOSTING, KCF, TLD, MEDIANFLOW or GOTURN\u001b[0m\u001b[0;34m\u001b[0m\u001b[0;34m\u001b[0m\u001b[0m\n\u001b[0;32m----> 6\u001b[0;31m \u001b[0mtracker\u001b[0m \u001b[0;34m=\u001b[0m \u001b[0mcv2\u001b[0m\u001b[0;34m.\u001b[0m\u001b[0mTracker_create\u001b[0m\u001b[0;34m(\u001b[0m\u001b[0;34m\"MIL\"\u001b[0m\u001b[0;34m)\u001b[0m\u001b[0;34m\u001b[0m\u001b[0m\n\u001b[0m\u001b[1;32m      7\u001b[0m \u001b[0;34m\u001b[0m\u001b[0m\n\u001b[1;32m      8\u001b[0m \u001b[0;31m# Read video\u001b[0m\u001b[0;34m\u001b[0m\u001b[0;34m\u001b[0m\u001b[0m\n",
      "\u001b[0;31mAttributeError\u001b[0m: module 'cv2' has no attribute 'Tracker_create'"
     ]
    }
   ],
   "source": [
    "import cv2\n",
    "import sys\n",
    " \n",
    " \n",
    "# Set up tracker. Instead of MIL, you can also use BOOSTING, KCF, TLD, MEDIANFLOW or GOTURN\n",
    "tracker = cv2.Tracker_create(\"MIL\")\n",
    " \n",
    "# Read video\n",
    "video = cv2.VideoCapture(\"videos/output.mp4\")\n",
    " \n",
    "# Exit if video not opened.\n",
    "if not video.isOpened():\n",
    "    print(\"Could not open video\")\n",
    "    sys.exit()"
   ]
  },
  {
   "cell_type": "markdown",
   "metadata": {},
   "source": [
    "## Sources\n",
    "* [Basic motion detection and tracking with Python and OpenCV](http://www.pyimagesearch.com/2015/05/25/basic-motion-detection-and-tracking-with-python-and-opencv/)\n",
    "* [Object Tracking using OpenCV (C++/Python)](https://www.learnopencv.com/object-tracking-using-opencv-cpp-python/)\n",
    "* [Multi-object tracking with dlib](https://www.pyimagesearch.com/2018/10/29/multi-object-tracking-with-dlib/)"
   ]
  }
 ],
 "metadata": {
  "kernelspec": {
   "display_name": "Python 3",
   "language": "python",
   "name": "python3"
  },
  "language_info": {
   "codemirror_mode": {
    "name": "ipython",
    "version": 3
   },
   "file_extension": ".py",
   "mimetype": "text/x-python",
   "name": "python",
   "nbconvert_exporter": "python",
   "pygments_lexer": "ipython3",
   "version": "3.6.7"
  }
 },
 "nbformat": 4,
 "nbformat_minor": 2
}
