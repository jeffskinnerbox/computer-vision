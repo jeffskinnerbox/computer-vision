{
 "cells": [
  {
   "cell_type": "markdown",
   "metadata": {},
   "source": [
    "# Generalized Camera Class for OpenCV\n",
    "A common problem is that as you move your OpenCv application between\n",
    "hardware environments or camera technologies, your code breaks.\n",
    "And in general, its hard to add support for yet another camera.\n",
    "For example, the Raspberry Pi is fairly complex\n",
    "because it uses a background capture thread to talk to the camera hardware.\n",
    "USB based cameras appear as a device, as in `/dev/video*` and\n",
    "laptop embedded mat have yet another access method."
   ]
  },
  {
   "cell_type": "code",
   "execution_count": 1,
   "metadata": {},
   "outputs": [
    {
     "name": "stderr",
     "output_type": "stream",
     "text": [
      "/usr/local/lib/python3.5/dist-packages/ipykernel_launcher.py:9: DeprecationWarning: encodestring() is a deprecated alias, use encodebytes()\n",
      "  if __name__ == '__main__':\n"
     ]
    },
    {
     "ename": "TypeError",
     "evalue": "expected 1-D data, not 2-D data from ndarray",
     "output_type": "error",
     "traceback": [
      "\u001b[0;31m---------------------------------------------------------------------------\u001b[0m",
      "\u001b[0;31mTypeError\u001b[0m                                 Traceback (most recent call last)",
      "\u001b[0;32m<ipython-input-1-2bdeea6784ab>\u001b[0m in \u001b[0;36m<module>\u001b[0;34m()\u001b[0m\n\u001b[1;32m     13\u001b[0m \u001b[0;34m\u001b[0m\u001b[0m\n\u001b[1;32m     14\u001b[0m \u001b[0;32mif\u001b[0m \u001b[0m__name__\u001b[0m \u001b[0;34m==\u001b[0m \u001b[0;34m'__main__'\u001b[0m\u001b[0;34m:\u001b[0m\u001b[0;34m\u001b[0m\u001b[0m\n\u001b[0;32m---> 15\u001b[0;31m     \u001b[0msend_a_frame\u001b[0m\u001b[0;34m(\u001b[0m\u001b[0;34m)\u001b[0m\u001b[0;34m\u001b[0m\u001b[0m\n\u001b[0m",
      "\u001b[0;32m<ipython-input-1-2bdeea6784ab>\u001b[0m in \u001b[0;36msend_a_frame\u001b[0;34m()\u001b[0m\n\u001b[1;32m      7\u001b[0m     \u001b[0mframe\u001b[0m \u001b[0;34m=\u001b[0m \u001b[0mcapture\u001b[0m\u001b[0;34m.\u001b[0m\u001b[0mread\u001b[0m\u001b[0;34m(\u001b[0m\u001b[0;34m)\u001b[0m\u001b[0;34m[\u001b[0m\u001b[0;36m1\u001b[0m\u001b[0;34m]\u001b[0m\u001b[0;34m\u001b[0m\u001b[0m\n\u001b[1;32m      8\u001b[0m     \u001b[0mcnt\u001b[0m \u001b[0;34m=\u001b[0m \u001b[0mcv2\u001b[0m\u001b[0;34m.\u001b[0m\u001b[0mimencode\u001b[0m\u001b[0;34m(\u001b[0m\u001b[0;34m'.png'\u001b[0m\u001b[0;34m,\u001b[0m\u001b[0mframe\u001b[0m\u001b[0;34m)\u001b[0m\u001b[0;34m[\u001b[0m\u001b[0;36m1\u001b[0m\u001b[0;34m]\u001b[0m\u001b[0;34m\u001b[0m\u001b[0m\n\u001b[0;32m----> 9\u001b[0;31m     \u001b[0mb64\u001b[0m \u001b[0;34m=\u001b[0m \u001b[0mbase64\u001b[0m\u001b[0;34m.\u001b[0m\u001b[0mencodestring\u001b[0m\u001b[0;34m(\u001b[0m\u001b[0mcnt\u001b[0m\u001b[0;34m)\u001b[0m\u001b[0;34m\u001b[0m\u001b[0m\n\u001b[0m\u001b[1;32m     10\u001b[0m     \u001b[0mb64\u001b[0m \u001b[0;34m=\u001b[0m \u001b[0mbase64\u001b[0m\u001b[0;34m.\u001b[0m\u001b[0mencodebytes\u001b[0m\u001b[0;34m(\u001b[0m\u001b[0mcnt\u001b[0m\u001b[0;34m)\u001b[0m\u001b[0;34m\u001b[0m\u001b[0m\n\u001b[1;32m     11\u001b[0m     \u001b[0mhtml\u001b[0m \u001b[0;34m=\u001b[0m \u001b[0;34m\"<html><img src='data:image/png;base64,\"\u001b[0m\u001b[0;34m+\u001b[0m\u001b[0mb64\u001b[0m \u001b[0;34m+\u001b[0m\u001b[0;34m\"'></html\"\u001b[0m\u001b[0;34m\u001b[0m\u001b[0m\n",
      "\u001b[0;32m/usr/lib/python3.5/base64.py\u001b[0m in \u001b[0;36mencodestring\u001b[0;34m(s)\u001b[0m\n\u001b[1;32m    545\u001b[0m     warnings.warn(\"encodestring() is a deprecated alias, use encodebytes()\",\n\u001b[1;32m    546\u001b[0m                   DeprecationWarning, 2)\n\u001b[0;32m--> 547\u001b[0;31m     \u001b[0;32mreturn\u001b[0m \u001b[0mencodebytes\u001b[0m\u001b[0;34m(\u001b[0m\u001b[0ms\u001b[0m\u001b[0;34m)\u001b[0m\u001b[0;34m\u001b[0m\u001b[0m\n\u001b[0m\u001b[1;32m    548\u001b[0m \u001b[0;34m\u001b[0m\u001b[0m\n\u001b[1;32m    549\u001b[0m \u001b[0;34m\u001b[0m\u001b[0m\n",
      "\u001b[0;32m/usr/lib/python3.5/base64.py\u001b[0m in \u001b[0;36mencodebytes\u001b[0;34m(s)\u001b[0m\n\u001b[1;32m    533\u001b[0m     \"\"\"Encode a bytestring into a bytes object containing multiple lines\n\u001b[1;32m    534\u001b[0m     of base-64 data.\"\"\"\n\u001b[0;32m--> 535\u001b[0;31m     \u001b[0m_input_type_check\u001b[0m\u001b[0;34m(\u001b[0m\u001b[0ms\u001b[0m\u001b[0;34m)\u001b[0m\u001b[0;34m\u001b[0m\u001b[0m\n\u001b[0m\u001b[1;32m    536\u001b[0m     \u001b[0mpieces\u001b[0m \u001b[0;34m=\u001b[0m \u001b[0;34m[\u001b[0m\u001b[0;34m]\u001b[0m\u001b[0;34m\u001b[0m\u001b[0m\n\u001b[1;32m    537\u001b[0m     \u001b[0;32mfor\u001b[0m \u001b[0mi\u001b[0m \u001b[0;32min\u001b[0m \u001b[0mrange\u001b[0m\u001b[0;34m(\u001b[0m\u001b[0;36m0\u001b[0m\u001b[0;34m,\u001b[0m \u001b[0mlen\u001b[0m\u001b[0;34m(\u001b[0m\u001b[0ms\u001b[0m\u001b[0;34m)\u001b[0m\u001b[0;34m,\u001b[0m \u001b[0mMAXBINSIZE\u001b[0m\u001b[0;34m)\u001b[0m\u001b[0;34m:\u001b[0m\u001b[0;34m\u001b[0m\u001b[0m\n",
      "\u001b[0;32m/usr/lib/python3.5/base64.py\u001b[0m in \u001b[0;36m_input_type_check\u001b[0;34m(s)\u001b[0m\n\u001b[1;32m    527\u001b[0m         msg = (\"expected 1-D data, not %d-D data from %s\" %\n\u001b[1;32m    528\u001b[0m                                           (m.ndim, s.__class__.__name__))\n\u001b[0;32m--> 529\u001b[0;31m         \u001b[0;32mraise\u001b[0m \u001b[0mTypeError\u001b[0m\u001b[0;34m(\u001b[0m\u001b[0mmsg\u001b[0m\u001b[0;34m)\u001b[0m\u001b[0;34m\u001b[0m\u001b[0m\n\u001b[0m\u001b[1;32m    530\u001b[0m \u001b[0;34m\u001b[0m\u001b[0m\n\u001b[1;32m    531\u001b[0m \u001b[0;34m\u001b[0m\u001b[0m\n",
      "\u001b[0;31mTypeError\u001b[0m: expected 1-D data, not 2-D data from ndarray"
     ]
    }
   ],
   "source": [
    "import cv2\n",
    "from importlib import import_module\n",
    "import base64\n",
    "\n",
    "def send_a_frame():\n",
    "    capture = cv2.VideoCapture(\"/home/jeff/Videos/People-Walking-Shot-From-Above.mp4\")\n",
    "    frame = capture.read()[1]\n",
    "    cnt = cv2.imencode('.png',frame)[1]\n",
    "    b64 = base64.encodestring(cnt)\n",
    "    b64 = base64.encodebytes(cnt)\n",
    "    html = \"<html><img src='data:image/png;base64,\"+b64 +\"'></html\"\n",
    "    send(html)\n",
    "    \n",
    "if __name__ == '__main__':\n",
    "    send_a_frame()"
   ]
  },
  {
   "cell_type": "markdown",
   "metadata": {
    "collapsed": true
   },
   "source": [
    "## `base_camera.py`"
   ]
  },
  {
   "cell_type": "code",
   "execution_count": 2,
   "metadata": {
    "collapsed": true
   },
   "outputs": [],
   "source": [
    "import time\n",
    "import threading\n",
    "try:\n",
    "    from greenlet import getcurrent as get_ident\n",
    "except ImportError:\n",
    "    try:\n",
    "        from thread import get_ident\n",
    "    except ImportError:\n",
    "        from _thread import get_ident\n",
    "\n",
    "\n",
    "class CameraEvent(object):\n",
    "    \"\"\"An Event-like class that signals all active clients when a new frame is\n",
    "    available.\n",
    "    \"\"\"\n",
    "    def __init__(self):\n",
    "        self.events = {}\n",
    "\n",
    "    def wait(self):\n",
    "        \"\"\"Invoked from each client's thread to wait for the next frame.\"\"\"\n",
    "        ident = get_ident()\n",
    "        if ident not in self.events:\n",
    "            # this is a new client\n",
    "            # add an entry for it in the self.events dict\n",
    "            # each entry has two elements, a threading.Event() and a timestamp\n",
    "            self.events[ident] = [threading.Event(), time.time()]\n",
    "        return self.events[ident][0].wait()\n",
    "\n",
    "    def set(self):\n",
    "        \"\"\"Invoked by the camera thread when a new frame is available.\"\"\"\n",
    "        now = time.time()\n",
    "        remove = None\n",
    "        for ident, event in self.events.items():\n",
    "            if not event[0].isSet():\n",
    "                # if this client's event is not set, then set it\n",
    "                # also update the last set timestamp to now\n",
    "                event[0].set()\n",
    "                event[1] = now\n",
    "            else:\n",
    "                # if the client's event is already set, it means the client\n",
    "                # did not process a previous frame\n",
    "                # if the event stays set for more than 5 seconds, then assume\n",
    "                # the client is gone and remove it\n",
    "                if now - event[1] > 5:\n",
    "                    remove = ident\n",
    "        if remove:\n",
    "            del self.events[remove]\n",
    "\n",
    "    def clear(self):\n",
    "        \"\"\"Invoked from each client's thread after a frame was processed.\"\"\"\n",
    "        self.events[get_ident()][0].clear()\n",
    "\n",
    "\n",
    "class BaseCamera(object):\n",
    "    thread = None  # background thread that reads frames from camera\n",
    "    frame = None  # current frame is stored here by background thread\n",
    "    last_access = 0  # time of last client access to the camera\n",
    "    event = CameraEvent()\n",
    "\n",
    "    def __init__(self):\n",
    "        \"\"\"Start the background camera thread if it isn't running yet.\"\"\"\n",
    "        if BaseCamera.thread is None:\n",
    "            BaseCamera.last_access = time.time()\n",
    "\n",
    "            # start background frame thread\n",
    "            BaseCamera.thread = threading.Thread(target=self._thread)\n",
    "            BaseCamera.thread.start()\n",
    "\n",
    "            # wait until frames are available\n",
    "            while self.get_frame() is None:\n",
    "                time.sleep(0)\n",
    "\n",
    "    def get_frame(self):\n",
    "        \"\"\"Return the current camera frame.\"\"\"\n",
    "        BaseCamera.last_access = time.time()\n",
    "\n",
    "        # wait for a signal from the camera thread\n",
    "        BaseCamera.event.wait()\n",
    "        BaseCamera.event.clear()\n",
    "\n",
    "        return BaseCamera.frame\n",
    "\n",
    "    @staticmethod\n",
    "    def frames():\n",
    "        \"\"\"\"Generator that returns frames from the camera.\"\"\"\n",
    "        raise RuntimeError('Must be implemented by subclasses.')\n",
    "\n",
    "    @classmethod\n",
    "    def _thread(cls):\n",
    "        \"\"\"Camera background thread.\"\"\"\n",
    "        print('Starting camera thread.')\n",
    "        frames_iterator = cls.frames()\n",
    "        for frame in frames_iterator:\n",
    "            BaseCamera.frame = frame\n",
    "            BaseCamera.event.set()  # send signal to clients\n",
    "            time.sleep(0)\n",
    "\n",
    "            # if there hasn't been any clients asking for frames in\n",
    "            # the last 10 seconds then stop the thread\n",
    "            if time.time() - BaseCamera.last_access > 10:\n",
    "                frames_iterator.close()\n",
    "                print('Stopping camera thread due to inactivity.')\n",
    "                break\n",
    "        BaseCamera.thread = None"
   ]
  },
  {
   "cell_type": "markdown",
   "metadata": {},
   "source": [
    "## `camera_opencv.py`"
   ]
  },
  {
   "cell_type": "code",
   "execution_count": 3,
   "metadata": {
    "collapsed": true
   },
   "outputs": [],
   "source": [
    "import cv2\n",
    "#from base_camera import BaseCamera\n",
    "\n",
    "\n",
    "class Camera(BaseCamera):\n",
    "    video_source = 0\n",
    "\n",
    "    @staticmethod\n",
    "    def set_video_source(source):\n",
    "        Camera.video_source = source\n",
    "\n",
    "    @staticmethod\n",
    "    def frames():\n",
    "        camera = cv2.VideoCapture(Camera.video_source)\n",
    "        if not camera.isOpened():\n",
    "            raise RuntimeError('Could not start camera.')\n",
    "\n",
    "        while True:\n",
    "            # read current frame\n",
    "            _, img = camera.read()\n",
    "\n",
    "            # encode as a jpeg image and return it\n",
    "            yield cv2.imencode('.jpg', img)[1].tobytes()"
   ]
  },
  {
   "cell_type": "markdown",
   "metadata": {},
   "source": [
    "## `camera_pi.py`\n",
    "\n",
    "This cell should be disabled when the Jupyter isn't running on a Raspberry Pi.\n",
    "\n",
    ">**NOTE:** Using Jupyter notebook you can click on a cell, press `esc` and then `r`.\n",
    "That converts it to a \"raw\" cell.\n",
    "You can use `esc` + `y` to convert it back a operating cell."
   ]
  },
  {
   "cell_type": "raw",
   "metadata": {},
   "source": [
    "import io\n",
    "import time\n",
    "import picamera\n",
    "from base_camera import BaseCamera\n",
    "\n",
    "\n",
    "class Camera(BaseCamera):\n",
    "    @staticmethod\n",
    "    def frames():\n",
    "        with picamera.PiCamera() as camera:\n",
    "            # let camera warm up\n",
    "            time.sleep(2)\n",
    "\n",
    "            stream = io.BytesIO()\n",
    "            for foo in camera.capture_continuous(stream, 'jpeg',\n",
    "                                                 use_video_port=True):\n",
    "                # return current frame\n",
    "                stream.seek(0)\n",
    "                yield stream.read()\n",
    "\n",
    "                # reset stream for next frame\n",
    "                stream.seek(0)\n",
    "                stream.truncate()"
   ]
  },
  {
   "cell_type": "markdown",
   "metadata": {},
   "source": [
    "## `camera.py`"
   ]
  },
  {
   "cell_type": "code",
   "execution_count": 4,
   "metadata": {
    "collapsed": true
   },
   "outputs": [],
   "source": [
    "import time\n",
    "#from base_camera import BaseCamera\n",
    "\n",
    "base = '/home/jeff/Jupyter-Notebooks/src/flask-video-streaming/'\n",
    "\n",
    "class Camera(BaseCamera):\n",
    "    \"\"\"An emulated camera implementation that streams a repeated sequence of\n",
    "    files 1.jpg, 2.jpg and 3.jpg at a rate of one frame per second.\"\"\"\n",
    "    imgs = [open(base + f + '.jpg', 'rb').read() for f in ['1', '2', '3']]\n",
    "\n",
    "    @staticmethod\n",
    "    def frames():\n",
    "        while True:\n",
    "            time.sleep(1)\n",
    "            yield Camera.imgs[int(time.time()) % 3]"
   ]
  },
  {
   "cell_type": "markdown",
   "metadata": {},
   "source": [
    "## `app.py`"
   ]
  },
  {
   "cell_type": "code",
   "execution_count": 5,
   "metadata": {},
   "outputs": [
    {
     "name": "stderr",
     "output_type": "stream",
     "text": [
      "/usr/local/lib/python3.5/dist-packages/ipykernel_launcher.py:24: DeprecationWarning: encodestring() is a deprecated alias, use encodebytes()\n"
     ]
    },
    {
     "ename": "TypeError",
     "evalue": "expected 1-D data, not 2-D data from ndarray",
     "output_type": "error",
     "traceback": [
      "\u001b[0;31m---------------------------------------------------------------------------\u001b[0m",
      "\u001b[0;31mTypeError\u001b[0m                                 Traceback (most recent call last)",
      "\u001b[0;32m<ipython-input-5-8cb2f5cef3ea>\u001b[0m in \u001b[0;36m<module>\u001b[0;34m()\u001b[0m\n\u001b[1;32m     36\u001b[0m \u001b[0;34m\u001b[0m\u001b[0m\n\u001b[1;32m     37\u001b[0m     \u001b[0;32mwhile\u001b[0m\u001b[0;34m(\u001b[0m\u001b[0mcapture\u001b[0m\u001b[0;34m.\u001b[0m\u001b[0misOpened\u001b[0m\u001b[0;34m(\u001b[0m\u001b[0;34m)\u001b[0m\u001b[0;34m)\u001b[0m\u001b[0;34m:\u001b[0m\u001b[0;34m\u001b[0m\u001b[0m\n\u001b[0;32m---> 38\u001b[0;31m         \u001b[0msend_a_frame\u001b[0m\u001b[0;34m(\u001b[0m\u001b[0mcapture\u001b[0m\u001b[0;34m)\u001b[0m\u001b[0;34m\u001b[0m\u001b[0m\n\u001b[0m\u001b[1;32m     39\u001b[0m \u001b[0;34m\u001b[0m\u001b[0m\n\u001b[1;32m     40\u001b[0m         \u001b[0;31m# pre-set ESC or 'q' to exit\u001b[0m\u001b[0;34m\u001b[0m\u001b[0;34m\u001b[0m\u001b[0m\n",
      "\u001b[0;32m<ipython-input-5-8cb2f5cef3ea>\u001b[0m in \u001b[0;36msend_a_frame\u001b[0;34m(cap)\u001b[0m\n\u001b[1;32m     22\u001b[0m     \u001b[0mframe\u001b[0m \u001b[0;34m=\u001b[0m \u001b[0mcap\u001b[0m\u001b[0;34m.\u001b[0m\u001b[0mread\u001b[0m\u001b[0;34m(\u001b[0m\u001b[0;34m)\u001b[0m\u001b[0;34m[\u001b[0m\u001b[0;36m1\u001b[0m\u001b[0;34m]\u001b[0m\u001b[0;34m\u001b[0m\u001b[0m\n\u001b[1;32m     23\u001b[0m     \u001b[0mcnt\u001b[0m \u001b[0;34m=\u001b[0m \u001b[0mcv2\u001b[0m\u001b[0;34m.\u001b[0m\u001b[0mimencode\u001b[0m\u001b[0;34m(\u001b[0m\u001b[0;34m'.png'\u001b[0m\u001b[0;34m,\u001b[0m\u001b[0mframe\u001b[0m\u001b[0;34m)\u001b[0m\u001b[0;34m[\u001b[0m\u001b[0;36m1\u001b[0m\u001b[0;34m]\u001b[0m\u001b[0;34m\u001b[0m\u001b[0m\n\u001b[0;32m---> 24\u001b[0;31m     \u001b[0mb64\u001b[0m \u001b[0;34m=\u001b[0m \u001b[0mbase64\u001b[0m\u001b[0;34m.\u001b[0m\u001b[0mencodestring\u001b[0m\u001b[0;34m(\u001b[0m\u001b[0mcnt\u001b[0m\u001b[0;34m)\u001b[0m\u001b[0;34m\u001b[0m\u001b[0m\n\u001b[0m\u001b[1;32m     25\u001b[0m     \u001b[0mhtml\u001b[0m \u001b[0;34m=\u001b[0m \u001b[0;34m\"<html><img src='data:image/png;base64,\"\u001b[0m\u001b[0;34m+\u001b[0m\u001b[0mb64\u001b[0m \u001b[0;34m+\u001b[0m\u001b[0;34m\"'></html\"\u001b[0m\u001b[0;34m\u001b[0m\u001b[0m\n\u001b[1;32m     26\u001b[0m     \u001b[0msend\u001b[0m\u001b[0;34m(\u001b[0m\u001b[0mhtml\u001b[0m\u001b[0;34m)\u001b[0m\u001b[0;34m\u001b[0m\u001b[0m\n",
      "\u001b[0;32m/usr/lib/python3.5/base64.py\u001b[0m in \u001b[0;36mencodestring\u001b[0;34m(s)\u001b[0m\n\u001b[1;32m    545\u001b[0m     warnings.warn(\"encodestring() is a deprecated alias, use encodebytes()\",\n\u001b[1;32m    546\u001b[0m                   DeprecationWarning, 2)\n\u001b[0;32m--> 547\u001b[0;31m     \u001b[0;32mreturn\u001b[0m \u001b[0mencodebytes\u001b[0m\u001b[0;34m(\u001b[0m\u001b[0ms\u001b[0m\u001b[0;34m)\u001b[0m\u001b[0;34m\u001b[0m\u001b[0m\n\u001b[0m\u001b[1;32m    548\u001b[0m \u001b[0;34m\u001b[0m\u001b[0m\n\u001b[1;32m    549\u001b[0m \u001b[0;34m\u001b[0m\u001b[0m\n",
      "\u001b[0;32m/usr/lib/python3.5/base64.py\u001b[0m in \u001b[0;36mencodebytes\u001b[0;34m(s)\u001b[0m\n\u001b[1;32m    533\u001b[0m     \"\"\"Encode a bytestring into a bytes object containing multiple lines\n\u001b[1;32m    534\u001b[0m     of base-64 data.\"\"\"\n\u001b[0;32m--> 535\u001b[0;31m     \u001b[0m_input_type_check\u001b[0m\u001b[0;34m(\u001b[0m\u001b[0ms\u001b[0m\u001b[0;34m)\u001b[0m\u001b[0;34m\u001b[0m\u001b[0m\n\u001b[0m\u001b[1;32m    536\u001b[0m     \u001b[0mpieces\u001b[0m \u001b[0;34m=\u001b[0m \u001b[0;34m[\u001b[0m\u001b[0;34m]\u001b[0m\u001b[0;34m\u001b[0m\u001b[0m\n\u001b[1;32m    537\u001b[0m     \u001b[0;32mfor\u001b[0m \u001b[0mi\u001b[0m \u001b[0;32min\u001b[0m \u001b[0mrange\u001b[0m\u001b[0;34m(\u001b[0m\u001b[0;36m0\u001b[0m\u001b[0;34m,\u001b[0m \u001b[0mlen\u001b[0m\u001b[0;34m(\u001b[0m\u001b[0ms\u001b[0m\u001b[0;34m)\u001b[0m\u001b[0;34m,\u001b[0m \u001b[0mMAXBINSIZE\u001b[0m\u001b[0;34m)\u001b[0m\u001b[0;34m:\u001b[0m\u001b[0;34m\u001b[0m\u001b[0m\n",
      "\u001b[0;32m/usr/lib/python3.5/base64.py\u001b[0m in \u001b[0;36m_input_type_check\u001b[0;34m(s)\u001b[0m\n\u001b[1;32m    527\u001b[0m         msg = (\"expected 1-D data, not %d-D data from %s\" %\n\u001b[1;32m    528\u001b[0m                                           (m.ndim, s.__class__.__name__))\n\u001b[0;32m--> 529\u001b[0;31m         \u001b[0;32mraise\u001b[0m \u001b[0mTypeError\u001b[0m\u001b[0;34m(\u001b[0m\u001b[0mmsg\u001b[0m\u001b[0;34m)\u001b[0m\u001b[0;34m\u001b[0m\u001b[0m\n\u001b[0m\u001b[1;32m    530\u001b[0m \u001b[0;34m\u001b[0m\u001b[0m\n\u001b[1;32m    531\u001b[0m \u001b[0;34m\u001b[0m\u001b[0m\n",
      "\u001b[0;31mTypeError\u001b[0m: expected 1-D data, not 2-D data from ndarray"
     ]
    }
   ],
   "source": [
    "#!/usr/bin/env python\n",
    "\n",
    "# Usage:\n",
    "#    to start an OpenCV session, do this: CAMERA=opencv python app.py\n",
    "#    to start an PiCamera session, do this: CAMERA=picamera python app.py\n",
    "\n",
    "\n",
    "from importlib import import_module\n",
    "import base64\n",
    "\n",
    "\n",
    "# import camera driver\n",
    "#if os.environ.get('CAMERA'):\n",
    "#    Camera = import_module('camera_' + os.environ['CAMERA']).Camera\n",
    "#else:\n",
    "#    from camera import Camera\n",
    "\n",
    "# Raspberry Pi camera module (requires picamera package)\n",
    "# from camera_pi import Camera\n",
    "\n",
    "def send_a_frame(cap):\n",
    "    frame = cap.read()[1]\n",
    "    cnt = cv2.imencode('.png',frame)[1]\n",
    "    b64 = base64.encodestring(cnt)\n",
    "    html = \"<html><img src='data:image/png;base64,\"+b64 +\"'></html\"\n",
    "    send(html)\n",
    "\n",
    "if __name__ == '__main__':\n",
    "    # open video file\n",
    "    capture = cv2.VideoCapture(\"/home/jeff/Videos/People-Walking-Shot-From-Above.mp4\")\n",
    "    \n",
    "    # Check if camera opened successfully\n",
    "    if (capture.isOpened() is False):\n",
    "        print(\"Error opening video stream or file\")\n",
    "        exit\n",
    "    \n",
    "    while(capture.isOpened()):\n",
    "        send_a_frame(capture)\n",
    "        \n",
    "        # pre-set ESC or 'q' to exit\n",
    "        k = cv2.waitKey(30) & 0xFF\n",
    "        if k == 27 or k == ord('q'):\n",
    "            break\n",
    "    \n",
    "    cv2.destroyAllWindows()"
   ]
  },
  {
   "cell_type": "markdown",
   "metadata": {},
   "source": [
    "## Sources\n",
    "* [Flask Video Streaming Revisited](https://blog.miguelgrinberg.com/post/flask-video-streaming-revisited)\n",
    "* [An introduction to the Flask Python web app framework](https://opensource.com/article/18/4/flask)\n",
    "* [Accessing the Raspberry Pi Camera with OpenCV and Python](http://www.pyimagesearch.com/2015/03/30/accessing-the-raspberry-pi-camera-with-opencv-and-python/)"
   ]
  }
 ],
 "metadata": {
  "kernelspec": {
   "display_name": "Python 3",
   "language": "python",
   "name": "python3"
  },
  "language_info": {
   "codemirror_mode": {
    "name": "ipython",
    "version": 3
   },
   "file_extension": ".py",
   "mimetype": "text/x-python",
   "name": "python",
   "nbconvert_exporter": "python",
   "pygments_lexer": "ipython3",
   "version": "3.6.3"
  }
 },
 "nbformat": 4,
 "nbformat_minor": 2
}
