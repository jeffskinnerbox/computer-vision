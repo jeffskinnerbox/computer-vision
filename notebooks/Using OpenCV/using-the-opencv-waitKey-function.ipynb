{
 "cells": [
  {
   "cell_type": "markdown",
   "metadata": {},
   "source": [
    "# Using the OpenCV `waitKey` Function\n",
    "For `waitkey(N)`, what is the siginficance of `N`?\n",
    "\n",
    "How do I catch key input to trigger certain functions in my Python PpenCV program?"
   ]
  },
  {
   "cell_type": "markdown",
   "metadata": {},
   "source": [
    "---\n",
    "## 1st Question\n",
    "The function `waitKey(30)` waits for key event for a \"delay\" here, 30 milliseconds.\n",
    "As explained in the OpenCV documentation,\n",
    "HighGui (`imshow()` is a function of HighGui)\n",
    "need a call of `waitKey` regularly, in order to process its event loop.\n",
    "If you don't call waitKey, HighGui cannot process windows events like\n",
    "redraw, resizing, input event etc.\n",
    "\n",
    "So just make sure to call it, even with a 1ms delay.\n",
    "Don't use zero!"
   ]
  },
  {
   "cell_type": "markdown",
   "metadata": {},
   "source": [
    "---\n",
    "## 2nd Question\n",
    "`qaitKey()` will also return a key when pressed.\n",
    "The information returned is encoded\n",
    "but you can use `ord()` function in Python to trabslate the keys.\n",
    "For example, if you want to trigger 'a' key press, do as follows:"
   ]
  },
  {
   "cell_type": "code",
   "execution_count": 5,
   "metadata": {},
   "outputs": [
    {
     "name": "stdout",
     "output_type": "stream",
     "text": [
      "you did not press a\n"
     ]
    }
   ],
   "source": [
    "import cv2\n",
    "\n",
    "if cv2.waitKey(5000) == ord('a'):\n",
    "   print(\"you pressed a\")\n",
    "else:\n",
    "    print(\"you did not press a\")"
   ]
  },
  {
   "cell_type": "markdown",
   "metadata": {},
   "source": [
    "To find the key value for any key,\n",
    "run the script below,\n",
    "click the mouse within the window holding the image,\n",
    "and it will print the key value pressed."
   ]
  },
  {
   "cell_type": "code",
   "execution_count": 6,
   "metadata": {
    "scrolled": true
   },
   "outputs": [
    {
     "name": "stdout",
     "output_type": "stream",
     "text": [
      "Key press = 116\n",
      "Key press = 101\n",
      "Key press = 227\n",
      "Key press = 99\n",
      "Key press = 99\n",
      "Key press = 227\n",
      "Key press = 99\n",
      "Key press = 99\n"
     ]
    }
   ],
   "source": [
    "import cv2\n",
    "\n",
    "# read in any image\n",
    "img = cv2.imread('/home/jeff/Pictures/Lenna.jpg')\n",
    "cv2.imshow('img', img)\n",
    "\n",
    "while(1):\n",
    "    k = cv2.waitKey(33)\n",
    "    if chr(k & 255) == 'q' or k == 27:   # 'q' or esc key to distroy the image and stop\n",
    "        cv2.destroyAllWindows()\n",
    "        break\n",
    "    elif k == -1:                        # -1 is normally returned, so don't print it\n",
    "        continue\n",
    "    else:\n",
    "        print(\"Key press =\", k)          # else print its value"
   ]
  },
  {
   "cell_type": "raw",
   "metadata": {},
   "source": [
    "## Sources\n",
    "* [Using other keys for the waitKey() function of opencv](https://stackoverflow.com/questions/14494101/using-other-keys-for-the-waitkey-function-of-opencv)"
   ]
  }
 ],
 "metadata": {
  "kernelspec": {
   "display_name": "Python 3",
   "language": "python",
   "name": "python3"
  },
  "language_info": {
   "codemirror_mode": {
    "name": "ipython",
    "version": 3
   },
   "file_extension": ".py",
   "mimetype": "text/x-python",
   "name": "python",
   "nbconvert_exporter": "python",
   "pygments_lexer": "ipython3",
   "version": "3.6.3"
  }
 },
 "nbformat": 4,
 "nbformat_minor": 2
}
