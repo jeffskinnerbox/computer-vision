{
 "cells": [
  {
   "cell_type": "code",
   "execution_count": 3,
   "metadata": {},
   "outputs": [
    {
     "name": "stdout",
     "output_type": "stream",
     "text": [
      "Total number of shapes =  17\n"
     ]
    }
   ],
   "source": [
    "#!/usr/bin/python3\n",
    "'''\n",
    "USAGE\n",
    "    python shape_counter.py -i random-shapes.png -o output.png\n",
    "    python shape_counter.py --input random-shapes.png --output output.png\n",
    "'''\n",
    "\n",
    "\n",
    "# import the necessary packages\n",
    "import sys\n",
    "import cv2\n",
    "import imutils\n",
    "import argparse\n",
    "\n",
    "\n",
    "# create the command line since your within Jupyter\n",
    "sys.argv = [\"./shape_counter.py\",\n",
    "            \"-i\", \"/home/jeff/src/Jupyter-Notebooks/DataSets/Images/random-shapes-1.png\",\n",
    "            \"-o\", \"/home/jeff/tmp/output.png\"]\n",
    "\n",
    "\n",
    "def count_shapes(image):\n",
    "    # convert the image to grayscale, blur it, and threshold it\n",
    "    gray = cv2.cvtColor(image, cv2.COLOR_BGR2GRAY)\n",
    "    blurred = cv2.GaussianBlur(gray, (5, 5), 0)\n",
    "    thresh = cv2.threshold(blurred, 60, 255, cv2.THRESH_BINARY)[1]\n",
    "\n",
    "    # extract contours from the image\n",
    "    cnts = cv2.findContours(thresh.copy(), cv2.RETR_EXTERNAL,\n",
    "                            cv2.CHAIN_APPROX_SIMPLE)\n",
    "    cnts = cnts[0] if imutils.is_cv2() else cnts[1]\n",
    "\n",
    "    # loop over the contours and draw them on the input image\n",
    "    for c in cnts:\n",
    "        cv2.drawContours(image, [c], -1, (0, 0, 255), 2)\n",
    "\n",
    "    # display the total number of shapes on the image\n",
    "    text = \"Total number of shapes = {}\".format(len(cnts))\n",
    "    cv2.putText(image, text, (10, 20), cv2.FONT_HERSHEY_SIMPLEX,\n",
    "                0.5, (0, 0, 255), 2)\n",
    "\n",
    "    return len(cnts), image\n",
    "\n",
    "\n",
    "def LineArgumentParser():\n",
    "    # construct the argument parser and parse the arguments\n",
    "    ap = argparse.ArgumentParser()\n",
    "    ap.add_argument(\"-i\", \"--input\", required=True,\n",
    "                    help=\"name of input image file\")\n",
    "    ap.add_argument(\"-o\", \"--output\", required=True,\n",
    "                    help=\"name of output image file\")\n",
    "    ap.add_argument(\"-I\", \"--input_path\", required=False,\n",
    "                    default=\"\",\n",
    "                    help=\"path to input image\")\n",
    "    ap.add_argument(\"-O\", \"--output_path\", required=False,\n",
    "                    default=\"\",\n",
    "                    help=\"path to output image\")\n",
    "    return vars(ap.parse_args())\n",
    "\n",
    "\n",
    "if __name__ == \"__main__\":\n",
    "    # parse the line arguments\n",
    "    args = LineArgumentParser()\n",
    "\n",
    "    # load the input image from disk\n",
    "    in_image = cv2.imread(args[\"input_path\"] + args[\"input\"])\n",
    "\n",
    "    # pass the image to the shape counter\n",
    "    count, out_image = count_shapes(in_image)\n",
    "\n",
    "    print(\"Total number of shapes = \", count)\n",
    "\n",
    "    # write the output image to disk\n",
    "    cv2.imwrite(args[\"output_path\"] + args[\"output\"], out_image)"
   ]
  }
 ],
 "metadata": {
  "kernelspec": {
   "display_name": "Python 3",
   "language": "python",
   "name": "python3"
  },
  "language_info": {
   "codemirror_mode": {
    "name": "ipython",
    "version": 3
   },
   "file_extension": ".py",
   "mimetype": "text/x-python",
   "name": "python",
   "nbconvert_exporter": "python",
   "pygments_lexer": "ipython3",
   "version": "3.6.3"
  }
 },
 "nbformat": 4,
 "nbformat_minor": 2
}
