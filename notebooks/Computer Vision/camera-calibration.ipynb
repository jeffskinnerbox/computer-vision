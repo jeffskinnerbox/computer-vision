{
 "cells": [
  {
   "cell_type": "markdown",
   "metadata": {},
   "source": [
    "# Camera Calibration\n",
    "Geometric camera calibration, also referred to as camera resectioning,\n",
    "estimates the parameters of a lens and image sensor of an image or video camera.\n",
    "You can use these parameters to correct for the cameras internal characteristics\n",
    "that affect the imaging process, such as: \n",
    "\n",
    "* Position of image center in the image\n",
    "* Focal length\n",
    "* Different scaling factors for row pixels and column pixels\n",
    "* Skew factor\n",
    "* Lens distortion (pin-cushion effect)\n",
    "\n",
    "Good calibration is important when we need to\n",
    "* Reconstruct a world model to measure thing\n",
    "* Interact with the world like robots, hand-eye coordination"
   ]
  },
  {
   "cell_type": "markdown",
   "metadata": {},
   "source": [
    "# Sources\n",
    "* [What Is Camera Calibration?](https://www.mathworks.com/help/vision/ug/camera-calibration.html)\n",
    "* [Camera Calibration](https://docs.opencv.org/3.3.0/dc/dbb/tutorial_py_calibration.html)\n",
    "* [Advanced Lane Finding Project](https://github.com/ahmedmadbouly/amd/blob/master/solution2.ipynb)\n",
    "* [Camera Calibration](https://www.cs.umd.edu/class/fall2013/cmsc426/lectures/camera-calibration.pdf)"
   ]
  }
 ],
 "metadata": {
  "kernelspec": {
   "display_name": "Python 3",
   "language": "python",
   "name": "python3"
  },
  "language_info": {
   "codemirror_mode": {
    "name": "ipython",
    "version": 3
   },
   "file_extension": ".py",
   "mimetype": "text/x-python",
   "name": "python",
   "nbconvert_exporter": "python",
   "pygments_lexer": "ipython3",
   "version": "3.6.3"
  }
 },
 "nbformat": 4,
 "nbformat_minor": 2
}
