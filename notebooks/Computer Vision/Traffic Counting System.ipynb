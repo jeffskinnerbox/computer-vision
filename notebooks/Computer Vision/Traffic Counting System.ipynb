{
 "cells": [
  {
   "cell_type": "markdown",
   "metadata": {},
   "source": [
    "# Traffic Counting System"
   ]
  },
  {
   "cell_type": "markdown",
   "metadata": {},
   "source": [
    "## CascadeClassifier"
   ]
  },
  {
   "cell_type": "code",
   "execution_count": 1,
   "metadata": {},
   "outputs": [
    {
     "name": "stdout",
     "output_type": "stream",
     "text": [
      "OpenCV version = 3.4.0\n",
      "File /home/jeff/Jupyter-Notebooks/DataSets/Videos/Car-Traffic.mp4\n",
      "File /home/jeff/Jupyter-Notebooks/DataSets/cars.xml\n",
      "reached end of the video\n"
     ]
    }
   ],
   "source": [
    "# -*- coding: utf-8 -*-\n",
    "\n",
    "import cv2\n",
    "import os\n",
    "\n",
    "print(\"OpenCV version = \" + cv2.__version__)\n",
    "\n",
    "ROOT = \"/home/jeff/Jupyter-Notebooks/DataSets/\"\n",
    "cascade_src = ROOT + 'cars.xml'\n",
    "video_src = ROOT + 'Videos/Car-Traffic.mp4'\n",
    "\n",
    "# load video file\n",
    "if os.path.isfile(video_src):\n",
    "    print(\"File \" + video_src)\n",
    "    cap = cv2.VideoCapture(video_src)\n",
    "else:\n",
    "    print(\"File \" + video_src + \"doesn't exit.\")\n",
    "    exit(1)\n",
    "\n",
    "# load classifier\n",
    "if os.path.isfile(cascade_src): \n",
    "    print(\"File \" + cascade_src)\n",
    "    car_cascade = cv2.CascadeClassifier(cascade_src)\n",
    "else:\n",
    "    print(\"File \" + cascade_src + \"doesn't exit.\")\n",
    "    exit(1)\n",
    "    \n",
    "# loop through the video file and perfrom the classification\n",
    "while True:\n",
    "    ret, img = cap.read()\n",
    "    if (type(img) == type(None)):\n",
    "        print(\"reached end of the video\")\n",
    "        break\n",
    "    \n",
    "    gray = cv2.cvtColor(img, cv2.COLOR_BGR2GRAY)\n",
    "    \n",
    "    cars = car_cascade.detectMultiScale(gray, 1.1, 1)\n",
    "\n",
    "    for (x,y,w,h) in cars:\n",
    "        cv2.rectangle(img, (x,y), (x+w,y+h), (0,0,255), 2)      \n",
    "    \n",
    "    cv2.imshow(video_src, img)\n",
    "    print(\"Found \" + str(len(cars)) + \" car(s)\")\n",
    "    b = str(len(cars))\n",
    "    a = float(b)\n",
    "    if a >= 5:\n",
    "        print (\"more traffic\")\n",
    "    else:\n",
    "        print (\"no traffic\")    \n",
    "    \n",
    "    # break for key entry of ESC or 'q' to exit\n",
    "    k = cv2.waitKey(33) & 0xFF\n",
    "    if k == 27 or k == ord('q'):\n",
    "        break\n",
    "\n",
    "# clean up\n",
    "cv2.destroyAllWindows()"
   ]
  },
  {
   "cell_type": "markdown",
   "metadata": {},
   "source": [
    "# Source\n",
    "* [Traffic Counting System Based on OpenCV and Python](https://www.hackster.io/deligence-technologies/traffic-counting-system-based-on-opencv-and-python-294059)"
   ]
  }
 ],
 "metadata": {
  "kernelspec": {
   "display_name": "Python 3",
   "language": "python",
   "name": "python3"
  },
  "language_info": {
   "codemirror_mode": {
    "name": "ipython",
    "version": 3
   },
   "file_extension": ".py",
   "mimetype": "text/x-python",
   "name": "python",
   "nbconvert_exporter": "python",
   "pygments_lexer": "ipython3",
   "version": "3.6.3"
  }
 },
 "nbformat": 4,
 "nbformat_minor": 2
}
