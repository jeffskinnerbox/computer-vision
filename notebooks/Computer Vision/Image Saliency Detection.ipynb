{
 "cells": [
  {
   "cell_type": "markdown",
   "metadata": {},
   "source": [
    "# Image Saliency Detection\n",
    "Saliency detection is the process of applying image processing and computer vision algorithms\n",
    "to automatically locate the most “salient” regions of an image.\n",
    "In essence, saliency is what “stands out” in a photo or scene,\n",
    "enabling your eye-brain connection to quickly\n",
    "(and essentially unconsciously) focus on the most important regions.\n",
    "Saliency detection is applied to many aspects of computer vision and image processing.\n",
    "For example, in object detection, instead of exhaustively applying a sliding window and image pyramid,\n",
    "only apply our computationally expensive detection algorithm to the most salient,\n",
    "interesting regions of an image most likely to contain an object.\n",
    "\n",
    "* [OpenCV Saliency Detection](https://www.pyimagesearch.com/2018/07/16/opencv-saliency-detection/)\n",
    "* [Mask R-CNN with OpenCV](https://www.pyimagesearch.com/2018/11/19/mask-r-cnn-with-opencv/)"
   ]
  }
 ],
 "metadata": {
  "kernelspec": {
   "display_name": "Python 3",
   "language": "python",
   "name": "python3"
  },
  "language_info": {
   "codemirror_mode": {
    "name": "ipython",
    "version": 3
   },
   "file_extension": ".py",
   "mimetype": "text/x-python",
   "name": "python",
   "nbconvert_exporter": "python",
   "pygments_lexer": "ipython3",
   "version": "3.6.7"
  }
 },
 "nbformat": 4,
 "nbformat_minor": 2
}
