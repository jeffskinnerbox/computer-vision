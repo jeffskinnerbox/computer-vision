{
 "cells": [
  {
   "cell_type": "markdown",
   "metadata": {},
   "source": [
    "# You Only Look Once (YOLO)"
   ]
  },
  {
   "cell_type": "markdown",
   "metadata": {},
   "source": [
    "# Sources\n",
    "* [Project Shows How To Use Machine Learning to Detect Pedestrians](https://hackaday.com/2019/01/14/project-shows-how-to-use-machine-learning-to-detect-pedestrians/)\n",
    "* [Review: YOLOv3 — You Only Look Once (Object Detection)](https://towardsdatascience.com/review-yolov3-you-only-look-once-object-detection-eab75d7a1ba6)\n",
    "* [How to Perform Object Detection With YOLOv3 in Keras](https://machinelearningmastery.com/how-to-perform-object-detection-with-yolov3-in-keras/)"
   ]
  }
 ],
 "metadata": {
  "kernelspec": {
   "display_name": "Python 3",
   "language": "python",
   "name": "python3"
  },
  "language_info": {
   "codemirror_mode": {
    "name": "ipython",
    "version": 3
   },
   "file_extension": ".py",
   "mimetype": "text/x-python",
   "name": "python",
   "nbconvert_exporter": "python",
   "pygments_lexer": "ipython3",
   "version": "3.6.7"
  }
 },
 "nbformat": 4,
 "nbformat_minor": 2
}
