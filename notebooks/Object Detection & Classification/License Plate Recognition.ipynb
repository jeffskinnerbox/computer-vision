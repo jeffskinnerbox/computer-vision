{
 "cells": [
  {
   "cell_type": "markdown",
   "metadata": {},
   "source": [
    "# License Plate Recognition\n",
    "[OpenALPR Cloud Stream](http://www.openalpr.com/cloud-stream.html)\n",
    "enables automatic license plate and vehicle recognition with any IP camera.\n",
    "The software installs on your local PC to recognize license plates\n",
    "and the results are displayed on a web portal which can be accessed from anywhere."
   ]
  }
 ],
 "metadata": {
  "kernelspec": {
   "display_name": "Python 3",
   "language": "python",
   "name": "python3"
  },
  "language_info": {
   "codemirror_mode": {
    "name": "ipython",
    "version": 3
   },
   "file_extension": ".py",
   "mimetype": "text/x-python",
   "name": "python",
   "nbconvert_exporter": "python",
   "pygments_lexer": "ipython3",
   "version": "3.6.3"
  }
 },
 "nbformat": 4,
 "nbformat_minor": 2
}
